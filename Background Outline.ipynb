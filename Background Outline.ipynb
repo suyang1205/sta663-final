{
 "metadata": {
  "name": "",
  "signature": "sha256:e919c565ea0827365e7f83382b6f584281f8f3b6182b1aedc2b50b5dc89240d4"
 },
 "nbformat": 3,
 "nbformat_minor": 0,
 "worksheets": [
  {
   "cells": [
    {
     "cell_type": "markdown",
     "metadata": {},
     "source": [
      "Paper Choice: Hierarchical Topic Models and the Nested Chinese Restaurant Process\n",
      "----\n",
      "Outline of Background\n",
      "----\n",
      "\n",
      "####  What Problem Does It Address?  \n",
      "When building  probabilistic models, challenges would always arise because data sets often grow over time, which means new entities and structures are brought to the fore. Current statistical modeling tools often seem too rigid in this regard; in particular, classical model selection techniques based\n",
      "on hypothesis testing are poorly matched to problems in which data can continue to accrue and unbounded sets of often incommensurate structures must be considered at each step.\n",
      "\n",
      "Hierachical topic models, which utilizes nested Chinese restaurant process, allow the data to grow and change as the data accumulate.\n",
      "\n",
      "####  Basic Knowledge for Hierarchical Topic Models\n",
      "#####     1) Chinese Restaurant Process\n",
      "The Chinese restaurant process is a discrete-time stochastic process,which is also a distribution on partitions of intergers.\n",
      "It can be obtained by imagining a restaurant with countably in\ufb01nitely many tables, labelled 1, 2, ... Customers walk in and sit down at some table. The tables are chosen according to the following random process:\n",
      "\n",
      "- The \ufb01rst customer always chooses the \ufb01rst table.\n",
      "- The mth customer chooses the \ufb01rst unoccupied table with probability $ \\frac{m_i}{\\gamma + m -1}$ , and an occupied table with probability $ \\frac{\\gamma}{\\gamma +m -1}$, where $m_i$  is the number of people sitting at that table, and $\\gamma$ is the scalar parameter.\n",
      "\n",
      "After M customers sit down, the seating plan gives a partition of M items. \n",
      "#####     2) Nested Chinese Restaurant Process\n",
      "A nested Chinese restaurant process can be de\ufb01ned by imagining the following scenario:\n",
      "Suppose that there are an in\ufb01nite number of in\ufb01nite-table Chinese restaurants in a city. One restaurant is determined to be the root restaurant and on each of its in\ufb01nite tables is a card with the name of another restaurant. On the \ufb01rst evening, one tourist enters the root Chinese restaurant and selects a table based on the rules defined before. On the second evening, he goes to the restaurant identi\ufb01ed on the \ufb01rst night\u2019s table and chooses another table, again using the same rule. He repeats this process for L days. At the end of the trip, the tourist has sat at L restaurants which constitute a path from the root to a restaurant at the Lth level in the in\ufb01nite tree described above. After M tourists take L-day vacations, the collection of paths describe a particular L-level subtree of the in\ufb01nite tree.\n",
      "\n",
      "####  Applications in Hierachical Topic Models\n",
      "Chinese Restaurant Process can be used as a prior in  hierarchical topic models. A standard CRP can be used to express uncertainty about a possible number of components, and the nested CRP can be used to express uncertainty about possible L-level trees.  We build a hierarchical topic model by combining this prior with a likelihood that is based on a hierarchical variant of latent Dirichlet allocation. "
     ]
    },
    {
     "cell_type": "code",
     "collapsed": false,
     "input": [],
     "language": "python",
     "metadata": {},
     "outputs": []
    }
   ],
   "metadata": {}
  }
 ]
}