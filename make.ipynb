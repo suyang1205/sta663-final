{
 "metadata": {
  "name": "",
  "signature": "sha256:7cc11599568ff74a97c93b0659828ba1a3f0b2c0fd93f517820be5ab93fb36ef"
 },
 "nbformat": 3,
 "nbformat_minor": 0,
 "worksheets": []
}