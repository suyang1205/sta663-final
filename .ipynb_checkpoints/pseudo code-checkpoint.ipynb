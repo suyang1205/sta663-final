{
 "metadata": {
  "name": "",
  "signature": "sha256:62d9ac6a689cbb24d554a9c62235ef382bcbc5f235649c5ffe41d705123b4067"
 },
 "nbformat": 3,
 "nbformat_minor": 0,
 "worksheets": [
  {
   "cells": [
    {
     "cell_type": "code",
     "collapsed": false,
     "input": [
      "#pseudo code----need improvement\n",
      "\n",
      "data=[x1,x2,....xn]\n",
      "\n",
      "def p(x,theta):\n",
      "    #the distribution of data\n",
      "def prior(theta,beta):\n",
      "    #the prior for thte parameters\n",
      "  \n",
      "#initilazation\n",
      "number_cluster=n\n",
      "D_i=xi i=1,....n\n",
      "\n",
      "while number_cluster>1:\n",
      "    r_k=pi_k*p(D_k|H1)/p(D_k|T_k) # for each pair of i,j\n",
      "    D_k=D_i+D_j\n",
      "    T_k=T_i+T_j\n",
      "    delete D_i, D_j\n",
      "end \n"
     ],
     "language": "python",
     "metadata": {},
     "outputs": []
    }
   ],
   "metadata": {}
  }
 ]
}