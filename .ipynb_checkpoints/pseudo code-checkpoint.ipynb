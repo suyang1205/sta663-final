{
 "metadata": {
  "name": "",
  "signature": "sha256:aab78f52c4282da20ee43ceef571ab82d576a180cb13e5bc444686d49a0a85ea"
 },
 "nbformat": 3,
 "nbformat_minor": 0,
 "worksheets": [
  {
   "cells": [
    {
     "cell_type": "code",
     "collapsed": false,
     "input": [
      "#pseudo code----need improvement\n",
      "def crp(vecs):\n",
      "    clusterVec = []         # tracks sum of vectors in a cluster\n",
      "    clusterIdx = []         # array of index arrays\n",
      "    ncluster = 0\n",
      "    # probablity to create a new table if new customer\n",
      "    # is not strongly \"similar\" to any existing table\n",
      "    pnew = 1.0/ (1 + ncluster)  \n",
      "    N = len(vecs)\n",
      "    rands = random.uniform(N)         # N rand variables sampled from U(0, 1)\n",
      " \n",
      "    for i in range(N):\n",
      "        maxSim = -Inf\n",
      "        maxIdx = 0\n",
      "        v = vecs[i]\n",
      "        for j in range(ncluster):\n",
      "            sim = cosine_similarity(v, clusterVec[j])\n",
      "            if sim < maxSim:\n",
      "                maxIdx = j\n",
      "                maxSim = sim\n",
      "            if maxSim < pnew:\n",
      "                if rands(i) < pnew:\n",
      "                    clusterVec[ncluster] = v\n",
      "                    clusterIdx[ncluster] = [i]\n",
      "                    ncluster += 1\n",
      "                    pnew = 1.0 / (1 + ncluster)\n",
      "                continue\n",
      "        clusterVec[maxIdx] = clusterVec[maxIdx] + v\n",
      "        clusterIdx[maxIdx].append(i)\n",
      " \n",
      "    return clusterIdx"
     ],
     "language": "python",
     "metadata": {},
     "outputs": []
    }
   ],
   "metadata": {}
  }
 ]
}