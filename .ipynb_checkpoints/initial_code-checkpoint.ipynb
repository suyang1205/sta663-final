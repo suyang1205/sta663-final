{
 "metadata": {
  "name": "",
  "signature": "sha256:ea1eab9d9ef44372ee6b211d68ab5d0b61044da0b1370ce79f3a8daaca418e65"
 },
 "nbformat": 3,
 "nbformat_minor": 0,
 "worksheets": [
  {
   "cells": [
    {
     "cell_type": "code",
     "collapsed": false,
     "input": [
      "import numpy as np\n",
      "from numpy.random import choice\n",
      "n = 10\n",
      "data = np.random.normal(size=2*n).reshape(-1,2)\n",
      "#10 points, two features\n",
      "print data[1]"
     ],
     "language": "python",
     "metadata": {},
     "outputs": [
      {
       "output_type": "stream",
       "stream": "stdout",
       "text": [
        "[-0.51337249  0.5747635 ]\n"
       ]
      }
     ],
     "prompt_number": 13
    },
    {
     "cell_type": "code",
     "collapsed": false,
     "input": [
      "class bicluster:\n",
      "    def __init__(self, vec, left=None,right=None,distance=0.0,id=None):\n",
      "        self.left = left\n",
      "        self.right = right  \n",
      "        self.vec = vec     \n",
      "        self.id = id     \n",
      "        self.distance = distance\n",
      "    \n",
      "def yezi(clust):\n",
      "    if clust.left == None and clust.right == None :\n",
      "        return [clust.id]\n",
      "    return yezi(clust.left) + yezi(clust.right)\n",
      "    \n",
      "def hcluster(data) :\n",
      "    biclusters = [ bicluster(vec = data[i], id = i ) for i in range(len(data)) ]\n",
      "    \n",
      "    flag = None;\n",
      "    currentclusted = -1\n",
      "    while(len(biclusters) > 1) : \n",
      "        max_prob = 0; \n",
      "        biclusters_len = len(biclusters)\n",
      "        for i in range(biclusters_len-1) :\n",
      "            for j in range(i + 1, biclusters_len) :\n",
      "                if distances.get((biclusters[i].id,biclusters[j].id)) == None:\n",
      "                    distances[(biclusters[i].id,biclusters[j].id)] = Euclidean_distance(biclusters[i].vec,biclusters[j].vec)\n",
      "                d = distances[(biclusters[i].id,biclusters[j].id)] \n",
      "                if d > max_prob :\n",
      "                    max_prob = d\n",
      "                    flag = (i,j)\n",
      "        bic1,bic2 = flag \n",
      "        newvec = [(biclusters[bic1].vec[i] + biclusters[bic2].vec[i])/2 for i in range(len(biclusters[bic1].vec))] \n",
      "        newbic = bicluster(newvec, left=biclusters[bic1], right=biclusters[bic2], distance=min_val, id = currentclusted) \n",
      "        currentclusted -= 1\n",
      "        del biclusters[bic2] \n",
      "        del biclusters[bic1]\n",
      "        biclusters.append(newbic)\n",
      "        clusters = [yezi(biclusters[i]) for i in range(len(biclusters))] \n",
      "    return biclusters,clusters"
     ],
     "language": "python",
     "metadata": {},
     "outputs": [],
     "prompt_number": 8
    },
    {
     "cell_type": "code",
     "collapsed": false,
     "input": [],
     "language": "python",
     "metadata": {},
     "outputs": [],
     "prompt_number": 9
    },
    {
     "cell_type": "code",
     "collapsed": false,
     "input": [],
     "language": "python",
     "metadata": {},
     "outputs": [],
     "prompt_number": 10
    },
    {
     "cell_type": "code",
     "collapsed": false,
     "input": [
      "\n"
     ],
     "language": "python",
     "metadata": {},
     "outputs": [],
     "prompt_number": 13
    },
    {
     "cell_type": "code",
     "collapsed": false,
     "input": [
      "\n"
     ],
     "language": "python",
     "metadata": {},
     "outputs": [],
     "prompt_number": 13
    },
    {
     "cell_type": "code",
     "collapsed": false,
     "input": [],
     "language": "python",
     "metadata": {},
     "outputs": []
    }
   ],
   "metadata": {}
  }
 ]
}