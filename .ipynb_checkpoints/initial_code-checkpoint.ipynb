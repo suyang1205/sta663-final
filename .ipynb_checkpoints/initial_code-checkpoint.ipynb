{
 "metadata": {
  "name": "",
  "signature": "sha256:2f89202941bdc7cc34b0b104330e773ac54df1884626eb1fb89742a4771c7a4d"
 },
 "nbformat": 3,
 "nbformat_minor": 0,
 "worksheets": [
  {
   "cells": [
    {
     "cell_type": "code",
     "collapsed": false,
     "input": [
      "import numpy as np\n",
      "from scipy.stats import multivariate_normal\n",
      "import scipy\n",
      "from scipy.stats import chi2\n",
      "\n",
      "#sample data set \n",
      "mean1 = (0,0,0,0)\n",
      "cov1 = np.eye(4)\n",
      "np.random.seed(1)\n",
      "data1 = np.random.multivariate_normal(mean1,cov1,4)\n",
      "mean1 = (1,2,3,4)\n",
      "cov1 = np.eye(4)\n",
      "np.random.seed(2)\n",
      "data1 = np.random.multivariate_normal(mean2,cov2,3)\n"
     ],
     "language": "python",
     "metadata": {},
     "outputs": [
      {
       "metadata": {},
       "output_type": "pyout",
       "prompt_number": 10,
       "text": [
        "array([[ 1.62434536, -0.61175641, -0.52817175, -1.07296862],\n",
        "       [ 0.86540763, -2.3015387 ,  1.74481176, -0.7612069 ],\n",
        "       [ 0.3190391 , -0.24937038,  1.46210794, -2.06014071],\n",
        "       [-0.3224172 , -0.38405435,  1.13376944, -1.09989127]])"
       ]
      }
     ],
     "prompt_number": 10
    },
    {
     "cell_type": "code",
     "collapsed": false,
     "input": [
      "c=[[1,2,3,4],[1,2,3,4],[1,2,3,4],[5,5,5,5],[5,5,5,5],[5,5,5,5],[6,2,6,4],[6,2,6,4],[6,2,6,4]]\n",
      "#multinomial sample data\n",
      "sample=[[3, 4, 3, 3, 4, 3],[3, 4, 3, 3, 4, 3],[3, 4, 3, 3, 4, 3],[4, 1, 7, 5, 2, 1],[4, 1, 7, 5, 2, 1],[4, 1, 7, 5, 2, 1],\n",
      "        [10, 5, 0, 0, 0, 5],[10, 5, 0, 0, 0, 5],[10, 5, 0, 0, 0, 5]]\n"
     ],
     "language": "python",
     "metadata": {},
     "outputs": [],
     "prompt_number": 22
    },
    {
     "cell_type": "code",
     "collapsed": false,
     "input": [
      "#multinomial sample data\n",
      "sample=[[3, 4, 3, 3, 4, 3],[3, 4, 3, 3, 4, 3],[3, 4, 3, 3, 4, 3],[4, 1, 7, 5, 2, 1],[4, 1, 7, 5, 2, 1],[4, 1, 7, 5, 2, 1],\n",
      "        [10, 5, 0, 0, 0, 5],[10, 5, 0, 0, 0, 5],[10, 5, 0, 0, 0, 5]]\n",
      "\n",
      "#Dirichlet priors for multinomial distribution\n",
      "import math\n",
      "\n",
      "class Multinomial(object):\n",
      "  def __init__(self, params):\n",
      "    self._params = params\n",
      "\n",
      "  def pmf(self, counts):\n",
      "    if not(len(counts)==len(self._params)):\n",
      "      raise ValueError(\"Dimensionality of count vector is incorrect\")\n",
      "\n",
      "    prob = 1.\n",
      "    for i,c in enumerate(counts):\n",
      "      prob *= self._params[i]**counts[i]\n",
      "\n",
      "    return prob * math.exp(self._log_multinomial_coeff(counts))\n",
      "\n",
      "  def log_pmf(self,counts):\n",
      "    if not(len(counts)==len(self._params)):\n",
      "      raise ValueError(\"Dimensionality of count vector is incorrect\")\n",
      "\n",
      "    prob = 0.\n",
      "    for i,c in enumerate(counts):\n",
      "      prob += counts[i]*math.log(self._params[i])\n",
      "\n",
      "    return prob + self._log_multinomial_coeff(counts)\n",
      "\n",
      "  def _log_multinomial_coeff(self, counts):\n",
      "    return self._log_factorial(sum(counts)) - sum(self._log_factorial(c)\n",
      "                                                    for c in counts)\n",
      "\n",
      "  def _log_factorial(self, num):\n",
      "    if not round(num)==num and num > 0:\n",
      "      raise ValueError(\"Can only compute the factorial of positive ints\")\n",
      "    return sum(math.log(n) for n in range(1,num+1))\n",
      "\n",
      "\n",
      "def P_H1_dirichlet_multinomial(cluster_points):\n",
      "    sum=0\n",
      "    for k in range(100):\n",
      "        p=len(cluster_points[0])\n",
      "        m = Multinomial(np.random.dirichlet([1/float(p)]*p))\n",
      "        lh=map(lambda x: m.pmf(x),cluster_points)\n",
      "        sum=sum+reduce(lambda x,y: x*y,lh)\n",
      "    P_H1=sum/100.0\n",
      "    return P_H1"
     ],
     "language": "python",
     "metadata": {},
     "outputs": [],
     "prompt_number": 39
    },
    {
     "cell_type": "code",
     "collapsed": false,
     "input": [
      "np.random.dirichlet([1/6.]*6)\n"
     ],
     "language": "python",
     "metadata": {},
     "outputs": [
      {
       "metadata": {},
       "output_type": "pyout",
       "prompt_number": 37,
       "text": [
        "array([  1.01976283e-02,   4.19612248e-10,   1.01919240e-02,\n",
        "         3.32558544e-02,   6.28088455e-01,   3.18266138e-01])"
       ]
      }
     ],
     "prompt_number": 37
    },
    {
     "cell_type": "code",
     "collapsed": false,
     "input": [
      "#sample from normal-inverse-wishart distribution for the probability of datak in the same group\n",
      "\n",
      "\n",
      "def sample_invwishart(lmbda,dof):\n",
      "    # TODO make a version that returns the cholesky\n",
      "    # TODO allow passing in chol/cholinv of matrix parameter lmbda\n",
      "    n = lmbda.shape[0]\n",
      "    chol = np.linalg.cholesky(lmbda)\n",
      "\n",
      "    if (dof <= 81+n) and (dof == np.round(dof)):\n",
      "        x = np.random.randn(dof,n)\n",
      "    else:\n",
      "        x = np.diag(np.sqrt(chi2.rvs(dof-(np.arange(n)))))\n",
      "        x[np.triu_indices_from(x,1)] = np.random.randn(n*(n-1)/2)\n",
      "    R = np.linalg.qr(x,'r')\n",
      "    T = scipy.linalg.solve_triangular(R.T,chol.T).T\n",
      "    return np.dot(T,T.T)\n",
      "\n",
      "def sample_niw(mu_0,lmbda_0,kappa_0,nu_0):\n",
      "    '''\n",
      "    Returns a sample from the normal/inverse-wishart distribution, conjugate\n",
      "    prior for (simultaneously) unknown mean and unknown covariance in a\n",
      "    Gaussian likelihood model. Returns covariance.  '''\n",
      "    # first sample Sigma ~ IW(lmbda_0^-1,nu_0)\n",
      "    lmbda = sample_invwishart(lmbda_0,nu_0) # lmbda = np.linalg.inv(sample_wishart(np.linalg.inv(lmbda_0),nu_0))\n",
      "    # then sample mu | Lambda ~ N(mu_0, Lambda/kappa_0)\n",
      "    mu = np.random.multivariate_normal(mu_0,lmbda / kappa_0)\n",
      "    return mu, lmbda\n",
      "\n",
      "def P_H1_NIW(cluster_points):\n",
      "    sum=0\n",
      "    for k in range(100):\n",
      "        a,b=sample_niw(mu0,sigma0,k0,v0)\n",
      "        var=multivariate_normal(mean=a, cov=b)\n",
      "        product=var.pdf(cluster_points)\n",
      "        sum=sum+reduce(lambda x,y: x*y,product)\n",
      "    P_H1=sum/100.0\n",
      "    return P_H1"
     ],
     "language": "python",
     "metadata": {},
     "outputs": [],
     "prompt_number": 42
    },
    {
     "cell_type": "code",
     "collapsed": false,
     "input": [
      "class bicluster:\n",
      "    def __init__(self, point, left=None,right=None,probability=1.0,d=None,id=None):\n",
      "        self.left = left\n",
      "        self.right = right  \n",
      "        self.point = point   \n",
      "        self.id = id     \n",
      "        self.probability = probability\n",
      "        self.d=d\n",
      "    \n",
      "def yezi(clust):\n",
      "    if clust.left == None and clust.right == None :\n",
      "        return [clust.id]\n",
      "    return yezi(clust.left) + yezi(clust.right)\n",
      " \n",
      "    \n",
      "#cluster function\n",
      "def bcluster(data) :\n",
      "    dim=len(data[0])\n",
      "    alpha=3\n",
      "    biclusters = [ bicluster(point = [data[i]], id = i ,probability=1.0,d=alpha) for i in range(len(data))] #initialize: each point is a cluster\n",
      "    \n",
      "    flag = None;\n",
      "    currentclusted = -1 #id for the new cluster\n",
      "    #pi=0.3 #prior weight\n",
      "    \n",
      "    #parameter value for the calculation of P_H1\n",
      "    dim=len(data[0])\n",
      "    number=len(data) #number of observations\n",
      "    mu0=np.zeros(dim)\n",
      "    v0=number\n",
      "    k0=3\n",
      "    sigma0=np.eye(dim)\n",
      "    \n",
      "    while(len(biclusters) > 3) : \n",
      "        max_prob = 0; \n",
      "        biclusters_len = len(biclusters)\n",
      "        for i in range(biclusters_len-1) :\n",
      "            for j in range(i + 1, biclusters_len) :\n",
      "                \n",
      "                #calculate P_H1: MC method\n",
      "                temp_cluster_points= biclusters[i].point + biclusters[j].point\n",
      "                sum=0\n",
      "                for k in range(100):\n",
      "                    a,b=sample_niw(mu0,sigma0,k0,v0)\n",
      "                    var=multivariate_normal(mean=a, cov=b)\n",
      "                    product=var.pdf(temp_cluster_points)\n",
      "                    sum=sum+reduce(lambda x,y: x*y,product)\n",
      "                P_H1=sum/100.0\n",
      "                \n",
      "                pi=float(scipy.misc.factorial(len(temp_cluster_points)-1))*alpha/(float(scipy.misc.factorial(len(temp_cluster_points)-1))*alpha+biclusters[i].d*biclusters[j].d)\n",
      "                marginal_prob=pi*P_H1+(1-pi)*biclusters[i].probability*biclusters[j].probability\n",
      "                r = pi*P_H1/marginal_prob\n",
      "                if r > max_prob :\n",
      "                    max_prob = r\n",
      "                    flag = (i,j)\n",
      "        #all max_prob is too small!!!!!!!!!!!!!!break the first time!!!!!!!!!!!!!so clusters is none!!!!!!!!!!!!!!!!!!!!!!!!!!!!!!!!!!!!!!!!!!!!!!         \n",
      "        #if max_prob<0.5:\n",
      "            #break\n",
      "            \n",
      "        bic1,bic2 = flag \n",
      "        \n",
      "        newpoint = biclusters[bic1].point + biclusters[bic2].point #combine the points of two clusters into the new cluster\n",
      "        sum=0\n",
      "        for k in range(100):\n",
      "            a,b=sample_niw(mu0,sigma0,k0,v0)\n",
      "            var=multivariate_normal(mean=a, cov=b)\n",
      "            product=var.pdf(newpoint)\n",
      "            sum=sum+reduce(lambda x,y: x*y,product)\n",
      "        P_H1=sum/100.0\n",
      "        \n",
      "        newprob=pi*P_H1+(1-pi)*biclusters[bic1].probability*biclusters[bic2].probability\n",
      "        newd=float(scipy.misc.factorial(len(newpoint)-1))*alpha+biclusters[bic1].d*biclusters[bic2].d\n",
      "        newbic = bicluster(point=newpoint, left=biclusters[bic1], right=biclusters[bic2], probability=newprob, d=newd,  id = currentclusted) \n",
      "        currentclusted -= 1\n",
      "        \n",
      "        del biclusters[bic2] \n",
      "        del biclusters[bic1]\n",
      "        biclusters.append(newbic)\n",
      "        clusters = [yezi(biclusters[i]) for i in range(len(biclusters))] \n",
      "    return biclusters,clusters"
     ],
     "language": "python",
     "metadata": {},
     "outputs": [],
     "prompt_number": 45
    },
    {
     "cell_type": "code",
     "collapsed": false,
     "input": [
      "k,l=bcluster(c)\n",
      "\n",
      "\n",
      "\n"
     ],
     "language": "python",
     "metadata": {},
     "outputs": [],
     "prompt_number": 46
    },
    {
     "cell_type": "code",
     "collapsed": false,
     "input": [
      "l\n"
     ],
     "language": "python",
     "metadata": {},
     "outputs": [
      {
       "metadata": {},
       "output_type": "pyout",
       "prompt_number": 47,
       "text": [
        "[[7, 1, 0, 2], [3, 6], [5, 4, 8]]"
       ]
      }
     ],
     "prompt_number": 47
    },
    {
     "cell_type": "code",
     "collapsed": false,
     "input": [
      "from PIL import Image, ImageDraw\n",
      "def getheight (clust) :\n",
      "    if clust.left == None and clust.right == None :return 1\n",
      "    return getheight(clust.left) + getheight(clust.right)\n",
      "\n",
      "def getdepth(clust) :\n",
      "    if clust.left == None and clust.right == None :return 0\n",
      "    return max(getdepth(clust.left),getdepth(clust.right)) + clust.distance\n",
      "\n",
      "def drawdendrogram(clust,labels,jpeg='clusters.jpg') :\n",
      "    h = getheight(clust) * 20\n",
      "    w = 1200\n",
      "    depth = getdepth(clust)\n",
      "    scaling = float(w-150) / depth\n",
      "    \n",
      "    img = Image.new('RGB',(w,h),(255,255,255))\n",
      "    draw = ImageDraw.Draw(img)\n",
      "    draw.line((0,h/2,10,h/2),fill=(255,0,0))\n",
      "\n",
      "    drawnode(draw,clust,10,(h/2),scaling,labels)\n",
      "    img.save(jpeg,'JPEG')\n",
      "\n",
      "def drawnode(draw, clust, x, y, scaling, labels) :\n",
      "    if clust.id < 0 :\n",
      "        h1 = getheight(clust.left) * 20\n",
      "        h2 = getheight(clust.right) * 20\n",
      "        top = y - (h1+h2)/2\n",
      "        bottom = y + (h1+h2)/2\n",
      "        #line length\n",
      "        ll = clust.distance * scaling\n",
      "        draw.line((x,top+h1/2,x,bottom-h2/2),fill=(255,0,0))\n",
      "        draw.line((x,top+h1/2,x+ll,top+h1/2),fill=(255,0,0))\n",
      "        draw.line((x,bottom-h2/2,x+ll,bottom-h2/2),fill=(255,0,0))\n",
      "        drawnode(draw,clust.left, x+ll, top+h1/2,scaling, labels)\n",
      "        drawnode(draw,clust.right,x+ll, bottom-h2/2,scaling,labels)\n",
      "    else :\n",
      "        draw.text((x+5,y-7),labels[clust.id],(0,0,0))\n",
      "\n",
      "\n",
      "\n",
      "    "
     ],
     "language": "python",
     "metadata": {},
     "outputs": [],
     "prompt_number": 25
    },
    {
     "cell_type": "code",
     "collapsed": false,
     "input": [],
     "language": "python",
     "metadata": {},
     "outputs": [],
     "prompt_number": 77
    },
    {
     "cell_type": "code",
     "collapsed": false,
     "input": [
      "c=[[1,2,3,4],[3,2,5,4],[4,2,6,4],[3,4,2,5],[5,2,6,4],[6,2,4,3],[4,2,6,3]]\n",
      "alpha=3\n",
      "class bicluster:\n",
      "    def __init__(self, point, left=None,right=None,probability=1.0,pi=1,d=alpha,id=None):\n",
      "        self.left = left\n",
      "        self.right = right  \n",
      "        self.point = point   \n",
      "        self.id = id     \n",
      "        self.probability = probability\n",
      "        self.d=d\n",
      "biclusters = [ bicluster(point = [data[i]], id = i ,probability=1.0,d=alpha) for i in range(len(data)) ] \n",
      "\n",
      "\n",
      "biclusters[5].point\n"
     ],
     "language": "python",
     "metadata": {},
     "outputs": [
      {
       "metadata": {},
       "output_type": "pyout",
       "prompt_number": 15,
       "text": [
        "[array([-1.10061918,  1.14472371,  0.90159072,  0.50249434])]"
       ]
      }
     ],
     "prompt_number": 15
    },
    {
     "cell_type": "code",
     "collapsed": false,
     "input": [
      "ss=biclusters[5].point+biclusters[3].point+biclusters[0].point\n",
      "ss\n",
      "\n"
     ],
     "language": "python",
     "metadata": {},
     "outputs": [
      {
       "metadata": {},
       "output_type": "pyout",
       "prompt_number": 62,
       "text": [
        "[array([-0.46681901, -0.43252929, -0.10041198,  0.79285256]),\n",
        " array([-0.70177213,  0.53317777,  0.8979075 , -0.05804029]),\n",
        " array([-1.18135151,  0.49841441, -1.18634513,  1.25467762])]"
       ]
      }
     ],
     "prompt_number": 62
    },
    {
     "cell_type": "code",
     "collapsed": false,
     "input": [
      "\n",
      "                "
     ],
     "language": "python",
     "metadata": {},
     "outputs": [],
     "prompt_number": 77
    },
    {
     "cell_type": "code",
     "collapsed": false,
     "input": [
      "def posterior(self, data):\n",
      "        n = len(data)\n",
      "        mean_data = np.mean(data, axis=0)\n",
      "        sum_squares = np.sum([np.array(np.matrix(x - mean_data).T * np.matrix(x - mean_data)) for x in data], axis=0)\n",
      "        mu_n = (k0 * mu0 + n * mean_data) / (k0 + n)\n",
      "        k_n = k0 + n\n",
      "        v_n = v0 + n\n",
      "        sigma_n = sigma0 + sum_squares + k0 * n / float(k0 + n) * np.array(np.matrix(mean_data - mu0).T * np.matrix(mean_data - mu0))\n",
      "        return NormalInverseWishartDistribution(mu_n, lmbda_n, nu_n, psi_n)"
     ],
     "language": "python",
     "metadata": {},
     "outputs": [],
     "prompt_number": 24
    },
    {
     "cell_type": "code",
     "collapsed": false,
     "input": [],
     "language": "python",
     "metadata": {},
     "outputs": [],
     "prompt_number": 7
    },
    {
     "cell_type": "code",
     "collapsed": false,
     "input": [
      "dim=len(data[0])\n",
      "number=len(data) #number of observations\n",
      "mu0=np.zeros(dim)\n",
      "v0=number\n",
      "k0=3\n",
      "sigma0=np.eye(dim)"
     ],
     "language": "python",
     "metadata": {},
     "outputs": [],
     "prompt_number": 13
    },
    {
     "cell_type": "code",
     "collapsed": false,
     "input": [
      "from scipy.stats import multivariate_normal\n",
      "sum=0\n",
      "for k in range(100):\n",
      "    a,b=sample_niw(mu0,sigma0,k0,v0)\n",
      "    \n",
      "    var=multivariate_normal(mean=a, cov=b)\n",
      "    product=var.pdf(data)\n",
      "    sum=sum+reduce(lambda x,y: x*y,product)\n",
      "\n",
      "P_H1=sum/100.0"
     ],
     "language": "python",
     "metadata": {},
     "outputs": [],
     "prompt_number": 42
    },
    {
     "cell_type": "code",
     "collapsed": false,
     "input": [
      "\n"
     ],
     "language": "python",
     "metadata": {},
     "outputs": [],
     "prompt_number": 43
    },
    {
     "cell_type": "code",
     "collapsed": false,
     "input": [],
     "language": "python",
     "metadata": {},
     "outputs": [],
     "prompt_number": 43
    },
    {
     "cell_type": "code",
     "collapsed": false,
     "input": [],
     "language": "python",
     "metadata": {},
     "outputs": [],
     "prompt_number": 43
    },
    {
     "cell_type": "code",
     "collapsed": false,
     "input": [],
     "language": "python",
     "metadata": {},
     "outputs": [],
     "prompt_number": 39
    },
    {
     "cell_type": "code",
     "collapsed": false,
     "input": [],
     "language": "python",
     "metadata": {},
     "outputs": [],
     "prompt_number": 35
    },
    {
     "cell_type": "code",
     "collapsed": false,
     "input": [],
     "language": "python",
     "metadata": {},
     "outputs": [],
     "prompt_number": 39
    },
    {
     "cell_type": "code",
     "collapsed": false,
     "input": [],
     "language": "python",
     "metadata": {},
     "outputs": []
    }
   ],
   "metadata": {}
  }
 ]
}