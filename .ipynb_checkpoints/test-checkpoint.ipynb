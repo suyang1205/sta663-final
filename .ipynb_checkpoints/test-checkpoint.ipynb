{
 "metadata": {
  "name": "",
  "signature": "sha256:f564523ed4d7ac2f1393c307952d507bb84c7ef05f67e5689b165400971f6f55"
 },
 "nbformat": 3,
 "nbformat_minor": 0,
 "worksheets": [
  {
   "cells": [
    {
     "cell_type": "code",
     "collapsed": false,
     "input": [],
     "language": "python",
     "metadata": {},
     "outputs": [],
     "prompt_number": 16
    },
    {
     "cell_type": "code",
     "collapsed": false,
     "input": [
      "%%file Bayhiecluster.py\n",
      "\n",
      "import numpy as np\n",
      "from scipy.stats import multivariate_normal\n",
      "import scipy\n",
      "from scipy.special import gamma \n",
      "\n",
      "def marginal_likelihood_NIW(points):\n",
      "    n=len(points)\n",
      "    p=len(points[0])\n",
      "    mean_data = np.mean(points, axis=0)\n",
      "    sum_squares = np.sum([np.array(np.matrix(x - mean_data).T * np.matrix(x - mean_data)) for x in points], axis=0)\n",
      "    k0=3.0\n",
      "    v0=10\n",
      "    sigma0=np.eye(p)\n",
      "    mu0=[0]*p\n",
      "    kn=k0+n\n",
      "    vn=v0+n\n",
      "    sigman=sigma0+sum_squares+(float(k0*n)/(k0+n))*np.dot((mean_data-mu0).reshape(p,1),(mean_data-mu0).reshape(1,p))\n",
      "    gammadn=reduce(lambda x,y: x*y, map(lambda x:gamma((vn+1-x)*0.5),range(1,p+1)))\n",
      "    gammad0=reduce(lambda x,y: x*y, map(lambda x:gamma((v0+1-x)*0.5),range(1,p+1)))\n",
      "    mar_like=np.pi**(-p*n*0.5)*(np.linalg.det(sigma0))**(v0*0.5)*(k0/kn)**(0.5*p)*gammadn/(float(gammad0)*(np.linalg.det(sigman))**(vn*0.5))\n",
      "    \n",
      "    return mar_like\n",
      "\n",
      "class bicluster:\n",
      "    def __init__(self, point, left=None,right=None,probability=None,d=None,id=None):\n",
      "        self.left = left\n",
      "        self.right = right  \n",
      "        self.point = point   \n",
      "        self.id = id     \n",
      "        self.probability = probability\n",
      "        self.d=d\n",
      "    \n",
      "def yezi(clust):\n",
      "    if clust.left == None and clust.right == None :\n",
      "        return [clust.id]\n",
      "    return yezi(clust.left) + yezi(clust.right)\n",
      " \n",
      "    \n",
      "#cluster function\n",
      "def bcluster(data,function) :\n",
      "    dim=len(data[0])\n",
      "    alpha=3\n",
      "    biclusters = [ bicluster(point = [data[i]], id = i ,probability=0.0000001,d=alpha) for i in range(len(data))] #initialize: each point is a cluster\n",
      "    \n",
      "    flag = None;\n",
      "    currentclusted = -1 #id for the new cluster\n",
      "    \n",
      "    if len(biclusters) == 1:\n",
      "        clusters = [yezi(biclusters[i]) for i in range(len(biclusters))] \n",
      "        return biclusters,clusters\n",
      "    \n",
      "    while(len(biclusters) > 1) : \n",
      "        max_prob = 0; \n",
      "        biclusters_len = len(biclusters)\n",
      "        for i in range(biclusters_len-1) :\n",
      "            for j in range(i + 1, biclusters_len) :\n",
      "                \n",
      "                #calculate P_H1: MC method\n",
      "                temp_cluster_points= biclusters[i].point + biclusters[j].point\n",
      "                P_H1=function(temp_cluster_points)\n",
      "                #P_H1=marginal_likelihood_DW(temp_cluster_points)\n",
      "                pi=float(scipy.misc.factorial(len(temp_cluster_points)-1))*alpha/(float(scipy.misc.factorial(len(temp_cluster_points)-1))*alpha+biclusters[i].d*biclusters[j].d)\n",
      "                marginal_prob=pi*P_H1+(1-pi)*biclusters[i].probability*biclusters[j].probability\n",
      "                r = pi*P_H1/marginal_prob\n",
      "                if r > max_prob :\n",
      "                    max_prob = r\n",
      "                    flag = (i,j)\n",
      "              \n",
      "        if max_prob<0.5: \n",
      "            break\n",
      "            \n",
      "        bic1,bic2 = flag \n",
      "        \n",
      "        newpoint = biclusters[bic1].point + biclusters[bic2].point #combine the points of two clusters into the new cluster\n",
      "        P_H1=function(newpoint)\n",
      "        #P_H1=marginal_likelihood_DW(newpoint)\n",
      "        \n",
      "        newprob=pi*P_H1+(1-pi)*biclusters[bic1].probability*biclusters[bic2].probability\n",
      "        newd=float(scipy.misc.factorial(len(newpoint)-1))*alpha+biclusters[bic1].d*biclusters[bic2].d\n",
      "        newbic = bicluster(point=newpoint, left=biclusters[bic1], right=biclusters[bic2], probability=newprob, d=newd,  id = currentclusted) \n",
      "        currentclusted -= 1\n",
      "        \n",
      "        del biclusters[bic2] \n",
      "        del biclusters[bic1]\n",
      "        biclusters.append(newbic)\n",
      "        clusters = [yezi(biclusters[i]) for i in range(len(biclusters))] \n",
      "        \n",
      "    return biclusters,clusters\n"
     ],
     "language": "python",
     "metadata": {},
     "outputs": [
      {
       "output_type": "stream",
       "stream": "stdout",
       "text": [
        "Overwriting Bayhiecluster.py\n"
       ]
      }
     ],
     "prompt_number": 1
    },
    {
     "cell_type": "code",
     "collapsed": false,
     "input": [
      "%%file test_Bayhiecluster.py\n",
      "import numpy as np\n",
      "from scipy.stats import multivariate_normal\n",
      "import scipy\n",
      "from scipy.special import gamma \n",
      "from numpy.testing import assert_almost_equal\n",
      "from Bayhiecluster import bcluster, marginal_likelihood_NIW, yezi\n",
      "\n",
      "#parameters for test data\n",
      "mean0=(0,0)\n",
      "cov0=np.eye(2)\n",
      "\n",
      "mean2=(0,0)\n",
      "cov2=0.5*np.eye(2)\n",
      "\n",
      "mean3=(2,2)\n",
      "cov3=0.5*np.eye(2)\n",
      "\n",
      "mean4=(8,8)\n",
      "cov4=0.5*np.eye(2)\n",
      "\n",
      "\n",
      "def test_atleast_onecluster():\n",
      "    for i in range(20):\n",
      "        data2=np.random.multivariate_normal(mean2,cov2,3)\n",
      "        data3=np.random.multivariate_normal(mean3,cov3,4)\n",
      "        data4=np.random.multivariate_normal(mean4,cov4,3)\n",
      "        sample_NIW=np.concatenate((data2, data3,data4), axis=0)\n",
      "        k,l=bcluster(sample_NIW,marginal_likelihood_NIW)\n",
      "        assert len(l) >= 1\n",
      "    \n",
      "def test_max_cluster_number():\n",
      "    for i in range(20):\n",
      "        data2=np.random.multivariate_normal(mean2,cov2,3)\n",
      "        data3=np.random.multivariate_normal(mean3,cov3,4)\n",
      "        data4=np.random.multivariate_normal(mean4,cov4,3)\n",
      "        sample_NIW=np.concatenate((data2, data3,data4), axis=0)\n",
      "        k,l=bcluster(sample_NIW,marginal_likelihood_NIW)\n",
      "        n=len(sample_NIW)\n",
      "        assert len(l) <= n\n",
      "        \n",
      "def test_if_all_the_same():\n",
      "    data0=np.random.multivariate_normal(mean0,cov0,1)\n",
      "    sample0=np.concatenate((data0, data0, data0, data0, data0, data0, data0, data0, data0, data0), axis=0)\n",
      "    k,l=bcluster(sample0,marginal_likelihood_NIW)\n",
      "    assert len(l) == 1\n",
      "    \n",
      "def test_only_one_point():\n",
      "    special=[[np.random.multivariate_normal(mean0,cov0,1)]]\n",
      "    k,l=bcluster(special,marginal_likelihood_NIW)\n",
      "    assert len(l) == 1"
     ],
     "language": "python",
     "metadata": {},
     "outputs": [
      {
       "output_type": "stream",
       "stream": "stdout",
       "text": [
        "Overwriting test_Bayhiecluster.py\n"
       ]
      }
     ],
     "prompt_number": 2
    },
    {
     "cell_type": "code",
     "collapsed": false,
     "input": [
      "! py.test"
     ],
     "language": "python",
     "metadata": {},
     "outputs": [
      {
       "output_type": "stream",
       "stream": "stdout",
       "text": [
        "\u001b[1m============================= test session starts ==============================\u001b[0m\r\n",
        "platform linux2 -- Python 2.7.9 -- py-1.4.25 -- pytest-2.6.3\r\n",
        "\u001b[1m\r",
        "collecting 0 items\u001b[0m"
       ]
      },
      {
       "output_type": "stream",
       "stream": "stdout",
       "text": [
        "\u001b[1m\r",
        "collecting 4 items\u001b[0m\u001b[1m\r",
        "collected 4 items \r\n",
        "\u001b[0m\r\n",
        "test_Bayhiecluster.py "
       ]
      },
      {
       "output_type": "stream",
       "stream": "stdout",
       "text": [
        "."
       ]
      },
      {
       "output_type": "stream",
       "stream": "stdout",
       "text": [
        "."
       ]
      },
      {
       "output_type": "stream",
       "stream": "stdout",
       "text": [
        "..\r\n",
        "\r\n",
        "\u001b[32m\u001b[1m=========================== 4 passed in 2.52 seconds ===========================\u001b[0m\r\n"
       ]
      }
     ],
     "prompt_number": 3
    },
    {
     "cell_type": "code",
     "collapsed": false,
     "input": [],
     "language": "python",
     "metadata": {},
     "outputs": []
    }
   ],
   "metadata": {}
  }
 ]
}