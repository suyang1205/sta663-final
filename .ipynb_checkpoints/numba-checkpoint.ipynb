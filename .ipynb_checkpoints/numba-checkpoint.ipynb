{
 "metadata": {
  "name": "",
  "signature": "sha256:126c8868534baa0aad9791455128e3aa097dcfb31c0d32183474314d718b4fe6"
 },
 "nbformat": 3,
 "nbformat_minor": 0,
 "worksheets": [
  {
   "cells": [
    {
     "cell_type": "code",
     "collapsed": false,
     "input": [
      "from numba import jit, int32, int64, float32, float64 \n",
      "import numpy as np\n",
      "from scipy.special import gamma \n",
      "import scipy\n",
      "import scipy.misc\n",
      "\n",
      "@jit\n",
      "    \n",
      "def yezi(clust):\n",
      "    if clust.left == None and clust.right == None :\n",
      "        return [clust.id]\n",
      "    return yezi(clust.left) + yezi(clust.right)\n",
      "class bicluster:\n",
      "    def __init__(self, point, left=None,right=None,probability=None,d=None,id=None):\n",
      "        self.left = left\n",
      "        self.right = right  \n",
      "        self.point = point   \n",
      "        self.id = id     \n",
      "        self.probability = probability\n",
      "        self.d=d\n",
      "\n",
      "def marginal_likelihood_DW(points):\n",
      "    p=len(points[0])\n",
      "    n=len(points)\n",
      "    #parameters for the prior distribution\n",
      "    alpha=[1.0/p]*p\n",
      "    alpha0=np.sum(alpha)\n",
      "    \n",
      "    def temp(yi):\n",
      "        sum=1.0\n",
      "        for i in range(0,p):\n",
      "            sum=sum*gamma(alpha[i]+yi[i])/(gamma(yi[i]+1)*gamma(alpha[i]))\n",
      "        return sum\n",
      "    #calculate the marginal probability\n",
      "    mar_like=reduce(lambda x,y: x*y, map(temp,points))*(gamma(p+1)*gamma(alpha0)/float(gamma(alpha0+p)))**n\n",
      "    \n",
      "    return mar_like\n",
      "\n",
      "\n",
      "def bcluster_numba(data,function) :\n",
      "    dim=len(data[0])#get the dimension of the data points\n",
      "    alpha=3\n",
      "    biclusters = [ bicluster(point = [data[i]], id = i ,probability=0.0000001,d=alpha) for i in range(len(data))] #initialize: each point is a cluster\n",
      "    flag = None;#record the id of the pair of clusters when merging\n",
      "    currentclusted = -1 #id for the new cluster\n",
      "    \n",
      "    #when there is only one data point in the data set\n",
      "    if len(biclusters) == 1:\n",
      "        clusters = [yezi(biclusters[i]) for i in range(len(biclusters))] \n",
      "        return biclusters,clusters\n",
      "    \n",
      "    #when there are more than one data points in the data set\n",
      "    while(len(biclusters) > 1) : \n",
      "        max_prob = 0; #initializa the maximum r_k\n",
      "        biclusters_len = len(biclusters)#number of the current clusters\n",
      "        \n",
      "        #find the pair of clusters that has the largest probability of merged hypothesis\n",
      "        for i in range(biclusters_len-1) :\n",
      "            for j in range(i + 1, biclusters_len) :\n",
      "                \n",
      "                temp_cluster_points= biclusters[i].point + biclusters[j].point#combine the two clusters into one cluster\n",
      "                P_H1=function(temp_cluster_points)#calculate the  probability that the points of the two clusters under H_1 hypothesis \n",
      "                #update the prior that all data points belong to one cluster\n",
      "                pi=float(scipy.misc.factorial(len(temp_cluster_points)-1))*alpha/(float(scipy.misc.factorial(len(temp_cluster_points)-1))*alpha+biclusters[i].d*biclusters[j].d)\n",
      "                marginal_prob=pi*P_H1+(1-pi)*biclusters[i].probability*biclusters[j].probability#calculate the marginal probabilty of data in tree T_k\n",
      "                r = pi*P_H1/marginal_prob#calculate the posterior probability of merged hypothesis using bayes rule\n",
      "                if r > max_prob :\n",
      "                    max_prob = r\n",
      "                    flag = (i,j)\n",
      "                    \n",
      "        #when to stop clustering     \n",
      "        if max_prob<0.5: \n",
      "            break\n",
      "            \n",
      "        bic1,bic2 = flag #update the flag\n",
      "        \n",
      "        newpoint = biclusters[bic1].point + biclusters[bic2].point #combine the points of two clusters into the new cluster\n",
      "        P_H1=function(newpoint)\n",
      "        #calculate the corresponding marginal probability for the new cluster\n",
      "        newprob=pi*P_H1+(1-pi)*biclusters[bic1].probability*biclusters[bic2].probability\n",
      "        newd=float(scipy.misc.factorial(len(newpoint)-1))*alpha+biclusters[bic1].d*biclusters[bic2].d\n",
      "        #construct the new culster using the information above\n",
      "        newbic = bicluster(point=newpoint, left=biclusters[bic1], right=biclusters[bic2], probability=newprob, d=newd,  id = currentclusted) \n",
      "        \n",
      "        currentclusted -= 1#update the id for the next cluster\n",
      "        #delete the two old clusters\n",
      "        del biclusters[bic2] \n",
      "        del biclusters[bic1]\n",
      "        \n",
      "        #add the new cluster into the biclusters\n",
      "        biclusters.append(newbic)\n",
      "        #record the clustering result\n",
      "        clusters = [yezi(biclusters[i]) for i in range(len(biclusters))] \n",
      "        \n",
      "    return biclusters,clusters"
     ],
     "language": "python",
     "metadata": {},
     "outputs": [
      {
       "output_type": "stream",
       "stream": "stdout",
       "text": [
        "100 loops, best of 3: 24.6 ms per loop\n"
       ]
      }
     ],
     "prompt_number": 11
    },
    {
     "cell_type": "code",
     "collapsed": false,
     "input": [
      "sample=np.array(\n",
      "       [[1, 0, 4, 5],\n",
      "       [3, 2, 2, 3],\n",
      "       [0, 3, 6, 1],\n",
      "       [0, 2, 3, 5],\n",
      "       [1, 0, 7, 2],\n",
      "       [2, 0, 6, 2],\n",
      "       [0, 0, 5, 5],\n",
      "       [2, 1, 4, 3],\n",
      "       [3, 4, 1, 2],\n",
      "       [1, 3, 3, 3]])\n",
      "%timeit -n 100 k,l=bcluster_numba(sample,marginal_likelihood_DW)\n",
      "\n"
     ],
     "language": "python",
     "metadata": {},
     "outputs": [
      {
       "output_type": "stream",
       "stream": "stdout",
       "text": [
        "100 loops, best of 3: 25.6 ms per loop\n"
       ]
      }
     ],
     "prompt_number": 10
    },
    {
     "cell_type": "code",
     "collapsed": false,
     "input": [
      "@vectorize('float64(float64, float64)')\n",
      "def rel_diff(x, y):\n",
      "    return 2 * (x - y) / (x + y)"
     ],
     "language": "python",
     "metadata": {},
     "outputs": []
    },
    {
     "cell_type": "code",
     "collapsed": false,
     "input": [],
     "language": "python",
     "metadata": {},
     "outputs": []
    }
   ],
   "metadata": {}
  }
 ]
}