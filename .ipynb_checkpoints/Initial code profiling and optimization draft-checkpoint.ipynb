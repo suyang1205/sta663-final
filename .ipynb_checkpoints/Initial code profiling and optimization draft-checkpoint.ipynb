{
 "metadata": {
  "name": "",
  "signature": "sha256:4b2740081bcc21b9276bec7ea0badc243b5c680ca42c2f255b2f08904c664579"
 },
 "nbformat": 3,
 "nbformat_minor": 0,
 "worksheets": [
  {
   "cells": [
    {
     "cell_type": "code",
     "collapsed": false,
     "input": [
      "import numpy as np\n",
      "from numpy.random import choice\n",
      "n = 10\n",
      "data = np.random.normal(size=2*n).reshape(-1,2)\n",
      "#10 points, two features\n",
      "print data[1]\n",
      "data\n",
      "class bicluster:\n",
      "    def __init__(self, vec, left=None,right=None,distance=0.0,id=None):\n",
      "        self.left = left\n",
      "        self.right = right  \n",
      "        self.vec = vec     \n",
      "        self.id = id     \n",
      "        self.distance = distance\n",
      "biclusters = [ bicluster(vec = data[i], id = i ) for i in range(len(data)) ]\n"
     ],
     "language": "python",
     "metadata": {},
     "outputs": [
      {
       "output_type": "stream",
       "stream": "stdout",
       "text": [
        "[ 0.16126631 -0.37366431]\n"
       ]
      }
     ],
     "prompt_number": 1
    },
    {
     "cell_type": "code",
     "collapsed": false,
     "input": [
      "class bicluster:\n",
      "    def __init__(self, vec, left=None,right=None,distance=0.0,id=None):\n",
      "        self.left = left\n",
      "        self.right = right  \n",
      "        self.vec = vec     \n",
      "        self.id = id     \n",
      "        self.distance = distance\n",
      "    \n",
      "def yezi(clust):\n",
      "    if clust.left == None and clust.right == None :\n",
      "        return [clust.id]\n",
      "    return yezi(clust.left) + yezi(clust.right)\n",
      "from math import sqrt\n",
      "\n",
      "def Euclidean_distance(vector1,vector2):\n",
      "    length = len(vector1)\n",
      "\n",
      "    TSum = sum([pow((vector1[i] - vector2[i]),2) for i in range(len(vector1))])\n",
      "\n",
      "    SSum = sqrt(TSum)\n",
      "\n",
      "    return SSum\n",
      "    \n",
      "def hcluster(blogwords,n) :\n",
      "    biclusters = [ bicluster(vec = blogwords[i], id = i ) for i in range(len(blogwords)) ]\n",
      "    distances = {}\n",
      "    flag = None;\n",
      "    currentclusted = -1\n",
      "    while(len(biclusters) > n) : \n",
      "        min_val = 999999999999; \n",
      "        biclusters_len = len(biclusters)\n",
      "        for i in range(biclusters_len-1) :\n",
      "            for j in range(i + 1, biclusters_len) :\n",
      "                if distances.get((biclusters[i].id,biclusters[j].id)) == None:\n",
      "                    distances[(biclusters[i].id,biclusters[j].id)] = Euclidean_distance(biclusters[i].vec,biclusters[j].vec)\n",
      "                d = distances[(biclusters[i].id,biclusters[j].id)] \n",
      "                if d < min_val :\n",
      "                    min_val = d\n",
      "                    flag = (i,j)\n",
      "        bic1,bic2 = flag \n",
      "        newvec = [(biclusters[bic1].vec[i] + biclusters[bic2].vec[i])/2 for i in range(len(biclusters[bic1].vec))] \n",
      "        newbic = bicluster(newvec, left=biclusters[bic1], right=biclusters[bic2], distance=min_val, id = currentclusted) \n",
      "        currentclusted -= 1\n",
      "        del biclusters[bic2] \n",
      "        del biclusters[bic1]\n",
      "        biclusters.append(newbic)\n",
      "        clusters = [yezi(biclusters[i]) for i in range(len(biclusters))] \n",
      "    return biclusters,clusters"
     ],
     "language": "python",
     "metadata": {},
     "outputs": [],
     "prompt_number": 2
    },
    {
     "cell_type": "code",
     "collapsed": false,
     "input": [
      "c=[[1,2,3,4],[3,2,5,4],[4,2,6,4],[3,4,2,5],[5,2,6,4],[6,2,4,3],[4,2,6,3]]"
     ],
     "language": "python",
     "metadata": {},
     "outputs": [],
     "prompt_number": 3
    },
    {
     "cell_type": "code",
     "collapsed": false,
     "input": [
      "k,l=hcluster(c,4)"
     ],
     "language": "python",
     "metadata": {},
     "outputs": [],
     "prompt_number": 4
    },
    {
     "cell_type": "code",
     "collapsed": false,
     "input": [
      "l"
     ],
     "language": "python",
     "metadata": {},
     "outputs": [
      {
       "metadata": {},
       "output_type": "pyout",
       "prompt_number": 5,
       "text": [
        "[[0], [3], [5], [1, 6, 2, 4]]"
       ]
      }
     ],
     "prompt_number": 5
    },
    {
     "cell_type": "code",
     "collapsed": false,
     "input": [],
     "language": "python",
     "metadata": {},
     "outputs": []
    }
   ],
   "metadata": {}
  }
 ]
}