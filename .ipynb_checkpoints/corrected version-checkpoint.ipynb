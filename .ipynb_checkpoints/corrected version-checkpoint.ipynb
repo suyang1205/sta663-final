{
 "metadata": {
  "name": "",
  "signature": "sha256:31d90b8adaddccf1e7d1997509fced06553ad1c6a9b89aab8fe6c5fd9fa953aa"
 },
 "nbformat": 3,
 "nbformat_minor": 0,
 "worksheets": [
  {
   "cells": [
    {
     "cell_type": "code",
     "collapsed": false,
     "input": [
      "import numpy as np\n",
      "from scipy.stats import multivariate_normal\n",
      "import scipy\n",
      "from scipy.special import gamma "
     ],
     "language": "python",
     "metadata": {},
     "outputs": []
    },
    {
     "cell_type": "code",
     "collapsed": false,
     "input": [
      "#multinomial sample data--prob=0.0000001\n",
      "sample=[[3, 3, 3, 3, 3, 3],[3, 3, 3, 3, 3, 3],[3, 3, 3, 3, 3, 3]]\n",
      "#sample=[[3, 7],[3, 7],[3, 7],[5,5],[5,5],[5,5],[5,5],[1,9],[1,9],[1,9]]\n",
      "\n"
     ],
     "language": "python",
     "metadata": {},
     "outputs": [],
     "prompt_number": 371
    },
    {
     "cell_type": "code",
     "collapsed": false,
     "input": [
      "[1,5,1,5,1,5],[1,5,1,5,1,5],[1,5,1,5,1,5],"
     ],
     "language": "python",
     "metadata": {},
     "outputs": [],
     "prompt_number": 2
    },
    {
     "cell_type": "code",
     "collapsed": false,
     "input": [
      "#function to calculate the marginal probability under the H1 hypothesis using Normal-Inverse-Wishart distribution\n",
      "def marginal_likelihood_NIW(points):\n",
      "    n=len(points)\n",
      "    p=len(points[0])\n",
      "    mean_data = np.mean(points, axis=0)\n",
      "    sum_squares = np.sum([np.array(np.matrix(x - mean_data).T * np.matrix(x - mean_data)) for x in points], axis=0)\n",
      "    #parameters for the prior distribution\n",
      "    k0=3.0\n",
      "    v0=10\n",
      "    sigma0=np.eye(p)\n",
      "    mu0=[0]*p\n",
      "    #parameters for the posterior distribution\n",
      "    kn=k0+n\n",
      "    vn=v0+n\n",
      "    sigman=sigma0+sum_squares+(float(k0*n)/(k0+n))*np.dot((mean_data-mu0).reshape(p,1),(mean_data-mu0).reshape(1,p))\n",
      "    gammadn=reduce(lambda x,y: x*y, map(lambda x:gamma((vn+1-x)*0.5),range(1,p+1)))\n",
      "    gammad0=reduce(lambda x,y: x*y, map(lambda x:gamma((v0+1-x)*0.5),range(1,p+1)))\n",
      "    #calculate the marginal probability\n",
      "    mar_like=np.pi**(-p*n*0.5)*(np.linalg.det(sigma0))**(v0*0.5)*(k0/kn)**(0.5*p)*gammadn/(float(gammad0)*(np.linalg.det(sigman))**(vn*0.5))\n",
      "    \n",
      "    return mar_like\n",
      "\n",
      "    \n",
      "    \n",
      "    \n",
      "    \n",
      "   \n",
      "    "
     ],
     "language": "python",
     "metadata": {},
     "outputs": [],
     "prompt_number": 2
    },
    {
     "cell_type": "code",
     "collapsed": false,
     "input": [],
     "language": "python",
     "metadata": {},
     "outputs": [],
     "prompt_number": 342
    },
    {
     "cell_type": "code",
     "collapsed": false,
     "input": [
      "#sample multinormal data----prob= 0.000005\n",
      "mean2=(0,0)\n",
      "cov2=0.5*np.eye(2)\n",
      "np.random.seed(4)\n",
      "data2=np.random.multivariate_normal(mean2,cov2,3)\n",
      "mean3=(2,2)\n",
      "cov3=0.5*np.eye(2)\n",
      "np.random.seed(5)\n",
      "data3=np.random.multivariate_normal(mean3,cov3,4)\n",
      "mean4=(8,8)\n",
      "cov4=0.5*np.eye(2)\n",
      "np.random.seed(6)\n",
      "data4=np.random.multivariate_normal(mean4,cov4,3)\n",
      "sample_NIW=np.concatenate((data3, data4,data2), axis=0)\n",
      "#sample_NIW=np.concatenate((data3, data4), axis=0)\n"
     ],
     "language": "python",
     "metadata": {},
     "outputs": [],
     "prompt_number": 6
    },
    {
     "cell_type": "code",
     "collapsed": false,
     "input": [
      "sample_NIW\n"
     ],
     "language": "python",
     "metadata": {},
     "outputs": [
      {
       "metadata": {},
       "output_type": "pyout",
       "prompt_number": 4,
       "text": [
        "array([[ 2.31199495,  1.76603947],\n",
        "       [ 3.71881479,  1.82174395],\n",
        "       [ 2.07750586,  3.11898313],\n",
        "       [ 1.3570756 ,  1.58164971],\n",
        "       [ 7.77953565,  8.51548362],\n",
        "       [ 8.15402256,  7.36424609],\n",
        "       [ 6.24158054,  8.64576634],\n",
        "       [ 0.03575253,  0.35351898],\n",
        "       [-0.70421396,  0.49044821],\n",
        "       [-0.29578384, -1.12046531]])"
       ]
      }
     ],
     "prompt_number": 4
    },
    {
     "cell_type": "code",
     "collapsed": false,
     "input": [
      "#function to calculate the marginal probability under the H1 hypothesis using Dirichlet-Multinomial distribution\n",
      "def marginal_likelihood_DW(points):\n",
      "    p=len(points[0])\n",
      "    n=len(points)\n",
      "    #parameters for the prior distribution\n",
      "    alpha=[1.0/p]*p\n",
      "    alpha0=np.sum(alpha)\n",
      "    \n",
      "    def temp(yi):\n",
      "        sum=1.0\n",
      "        for i in range(0,p):\n",
      "            sum=sum*gamma(alpha[i]+yi[i])/(gamma(yi[i]+1)*gamma(alpha[i]))\n",
      "        return sum\n",
      "    #calculate the marginal probability\n",
      "    mar_like=reduce(lambda x,y: x*y, map(temp,points))*(gamma(p+1)*gamma(alpha0)/float(gamma(alpha0+p)))**n\n",
      "    \n",
      "    return mar_like\n",
      "\n",
      "\n",
      "\n"
     ],
     "language": "python",
     "metadata": {},
     "outputs": [],
     "prompt_number": 2
    },
    {
     "cell_type": "code",
     "collapsed": false,
     "input": [
      "#sample multinomial data----prob=0.0000001\n",
      "\n",
      "d1=[[3, 3, 3, 3, 3, 3],[3, 3, 3, 3, 3, 3],[3, 3, 3, 3, 3, 3]]\n",
      "d2=[[9, 9, 0, 0, 0, 0],[9, 9, 0, 0, 0, 0],[9, 9, 0, 0, 0, 0]]\n",
      "sample_DW=np.concatenate((d1, d2), axis=0)\n"
     ],
     "language": "python",
     "metadata": {},
     "outputs": [],
     "prompt_number": 6
    },
    {
     "cell_type": "code",
     "collapsed": false,
     "input": [],
     "language": "python",
     "metadata": {},
     "outputs": [],
     "prompt_number": 376
    },
    {
     "cell_type": "code",
     "collapsed": false,
     "input": [
      "#define a class called \"bicluster\" to represent cluster and its properties\n",
      "class bicluster:\n",
      "    def __init__(self, point, left=None,right=None,probability=None,d=None,id=None):\n",
      "        self.left = left\n",
      "        self.right = right  \n",
      "        self.point = point   \n",
      "        self.id = id     \n",
      "        self.probability = probability\n",
      "        self.d=d\n",
      "        \n",
      "#function used to store the clustering result\n",
      "def yezi(clust):\n",
      "    if clust.left == None and clust.right == None :\n",
      "        return [clust.id]\n",
      "    return yezi(clust.left) + yezi(clust.right)\n",
      " \n",
      "    \n",
      "#cluster function\n",
      "#parameter \"data\" is the data sset we want to cluster\n",
      "#parameter \"function\" is the function to calculate the marginal probability, which involves the choice of probablistic model and prior \n",
      "def bcluster(data,function) :\n",
      "    dim=len(data[0])#get the dimension of the data points\n",
      "    alpha=3\n",
      "    biclusters = [ bicluster(point = [data[i]], id = i ,probability=0.0000001,d=alpha) for i in range(len(data))] #initialize: each point is a cluster\n",
      "    flag = None;#record the id of the pair of clusters when merging\n",
      "    currentclusted = -1 #id for the new cluster\n",
      "    \n",
      "    #when there is only one data point in the data set\n",
      "    if len(biclusters) == 1:\n",
      "        clusters = [yezi(biclusters[i]) for i in range(len(biclusters))] \n",
      "        return biclusters,clusters\n",
      "    \n",
      "    #when there are more than one data points in the data set\n",
      "    while(len(biclusters) > 1) : \n",
      "        max_prob = 0; #initializa the maximum r_k\n",
      "        biclusters_len = len(biclusters)#number of the current clusters\n",
      "        \n",
      "        #find the pair of clusters that has the largest probability of merged hypothesis\n",
      "        for i in range(biclusters_len-1) :\n",
      "            for j in range(i + 1, biclusters_len) :\n",
      "                \n",
      "                temp_cluster_points= biclusters[i].point + biclusters[j].point#combine the two clusters into one cluster\n",
      "                P_H1=function(temp_cluster_points)#calculate the  probability that the points of the two clusters under H_1 hypothesis \n",
      "                #update the prior that all data points belong to one cluster\n",
      "                pi=float(scipy.misc.factorial(len(temp_cluster_points)-1))*alpha/(float(scipy.misc.factorial(len(temp_cluster_points)-1))*alpha+biclusters[i].d*biclusters[j].d)\n",
      "                marginal_prob=pi*P_H1+(1-pi)*biclusters[i].probability*biclusters[j].probability#calculate the marginal probabilty of data in tree T_k\n",
      "                r = pi*P_H1/marginal_prob#calculate the posterior probability of merged hypothesis using bayes rule\n",
      "                if r > max_prob :\n",
      "                    max_prob = r\n",
      "                    flag = (i,j)\n",
      "                    \n",
      "        #when to stop clustering     \n",
      "        if max_prob<0.5: \n",
      "            break\n",
      "            \n",
      "        bic1,bic2 = flag #update the flag\n",
      "        \n",
      "        newpoint = biclusters[bic1].point + biclusters[bic2].point #combine the points of two clusters into the new cluster\n",
      "        P_H1=function(newpoint)\n",
      "        #calculate the corresponding marginal probability for the new cluster\n",
      "        newprob=pi*P_H1+(1-pi)*biclusters[bic1].probability*biclusters[bic2].probability\n",
      "        newd=float(scipy.misc.factorial(len(newpoint)-1))*alpha+biclusters[bic1].d*biclusters[bic2].d\n",
      "        #construct the new culster using the information above\n",
      "        newbic = bicluster(point=newpoint, left=biclusters[bic1], right=biclusters[bic2], probability=newprob, d=newd,  id = currentclusted) \n",
      "        \n",
      "        currentclusted -= 1#update the id for the next cluster\n",
      "        #delete the two old clusters\n",
      "        del biclusters[bic2] \n",
      "        del biclusters[bic1]\n",
      "        \n",
      "        #add the new cluster into the biclusters\n",
      "        biclusters.append(newbic)\n",
      "        #record the clustering result\n",
      "        clusters = [yezi(biclusters[i]) for i in range(len(biclusters))] \n",
      "        \n",
      "    return biclusters,clusters\n",
      "\n",
      "\n"
     ],
     "language": "python",
     "metadata": {},
     "outputs": [],
     "prompt_number": 3
    },
    {
     "cell_type": "code",
     "collapsed": false,
     "input": [],
     "language": "python",
     "metadata": {},
     "outputs": [],
     "prompt_number": 30
    },
    {
     "cell_type": "code",
     "collapsed": false,
     "input": [
      "k1,l1=bcluster(sample_NIW,marginal_likelihood_NIW) \n",
      "k2,l2=bcluster(sample_DW,marginal_likelihood_DW) \n"
     ],
     "language": "python",
     "metadata": {},
     "outputs": [],
     "prompt_number": 40
    },
    {
     "cell_type": "code",
     "collapsed": false,
     "input": [
      "sample=np.array(\n",
      "       [[1, 0, 4, 5],\n",
      "       [3, 2, 2, 3],\n",
      "       [0, 3, 6, 1],\n",
      "       [0, 2, 3, 5],\n",
      "       [1, 0, 7, 2],\n",
      "       [2, 0, 6, 2],\n",
      "       [0, 0, 5, 5],\n",
      "       [2, 1, 4, 3],\n",
      "       [3, 4, 1, 2],\n",
      "       [1, 3, 3, 3]])\n",
      "%timeit -n 100 k,l=bcluster(sample,marginal_likelihood_DW) \n"
     ],
     "language": "python",
     "metadata": {},
     "outputs": [
      {
       "output_type": "stream",
       "stream": "stdout",
       "text": [
        "100 loops, best of 3: 22.1 ms per loop\n"
       ]
      }
     ],
     "prompt_number": 4
    },
    {
     "cell_type": "code",
     "collapsed": false,
     "input": [],
     "language": "python",
     "metadata": {},
     "outputs": [],
     "prompt_number": 9
    },
    {
     "cell_type": "code",
     "collapsed": false,
     "input": [
      "l1\n",
      "\n",
      "\n"
     ],
     "language": "python",
     "metadata": {},
     "outputs": [
      {
       "metadata": {},
       "output_type": "pyout",
       "prompt_number": 41,
       "text": [
        "[[7, 8], [6, 4, 5, 0, 1, 2, 3, 9]]"
       ]
      }
     ],
     "prompt_number": 41
    },
    {
     "cell_type": "code",
     "collapsed": false,
     "input": [
      "l2"
     ],
     "language": "python",
     "metadata": {},
     "outputs": [
      {
       "metadata": {},
       "output_type": "pyout",
       "prompt_number": 42,
       "text": [
        "[[1], [2], [0, 5, 3, 4]]"
       ]
      }
     ],
     "prompt_number": 42
    },
    {
     "cell_type": "code",
     "collapsed": false,
     "input": [],
     "language": "python",
     "metadata": {},
     "outputs": [],
     "prompt_number": 8
    },
    {
     "cell_type": "code",
     "collapsed": false,
     "input": [],
     "language": "python",
     "metadata": {},
     "outputs": [],
     "prompt_number": 4
    },
    {
     "cell_type": "code",
     "collapsed": false,
     "input": [],
     "language": "python",
     "metadata": {},
     "outputs": [],
     "prompt_number": 5
    },
    {
     "cell_type": "code",
     "collapsed": false,
     "input": [],
     "language": "python",
     "metadata": {},
     "outputs": [],
     "prompt_number": 9
    },
    {
     "cell_type": "code",
     "collapsed": false,
     "input": [],
     "language": "python",
     "metadata": {},
     "outputs": [],
     "prompt_number": 12
    },
    {
     "cell_type": "code",
     "collapsed": false,
     "input": [],
     "language": "python",
     "metadata": {},
     "outputs": []
    }
   ],
   "metadata": {}
  }
 ]
}