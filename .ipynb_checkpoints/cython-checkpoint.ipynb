{
 "metadata": {
  "name": "",
  "signature": "sha256:c888362ef0f811de1799c23f66d816799d624ebe05cd9db2348894554512b1a4"
 },
 "nbformat": 3,
 "nbformat_minor": 0,
 "worksheets": [
  {
   "cells": [
    {
     "cell_type": "code",
     "collapsed": false,
     "input": [],
     "language": "python",
     "metadata": {},
     "outputs": [],
     "prompt_number": 3
    },
    {
     "cell_type": "code",
     "collapsed": false,
     "input": [
      "%load_ext cythonmagic\n"
     ],
     "language": "python",
     "metadata": {},
     "outputs": [],
     "prompt_number": 1
    },
    {
     "cell_type": "code",
     "collapsed": false,
     "input": [
      "%%cython\n",
      "import numpy as np\n",
      "cimport cython\n",
      "cimport numpy as np\n",
      "from scipy.special import gamma \n",
      "import scipy\n",
      "import scipy.misc\n",
      "\n",
      "@cython.boundscheck(False)\n",
      "@cython.wraparound(False)\n",
      "@cython.profile(False)\n",
      "\n",
      "cdef marginal_likelihood_DW_cython(np.ndarray[long,ndim=2] points):\n",
      "    cdef int p=len(points[0])\n",
      "    cdef int n=len(points)\n",
      "    cdef np.ndarray alpha=np.repeat(1.0/p,p)\n",
      "    cdef double alpha0=np.sum(alpha)\n",
      "    cdef double  mar_like\n",
      "    \n",
      "    def temp(np.ndarray[long,ndim=1] yi):\n",
      "        cdef int i\n",
      "        cdef double sum=1.0\n",
      "        for i in range(0,p):\n",
      "            sum=sum*gamma(alpha[i]+yi[i])/(gamma(yi[i]+1)*gamma(alpha[i]))\n",
      "        return sum\n",
      "    \n",
      "    mar_like=reduce(lambda x,y: x*y, map(temp,points))*(gamma(p+1)*gamma(alpha0)/float(gamma(alpha0+p)))**n\n",
      "    \n",
      "    return mar_like\n",
      "\n",
      "class bicluster:\n",
      "    def __init__(self, point, left=None,right=None,probability=None,d=None,id=None):\n",
      "        self.left = left\n",
      "        self.right = right  \n",
      "        self.point = point   \n",
      "        self.id = id     \n",
      "        self.probability = probability\n",
      "        self.d=d\n",
      "    \n",
      "def yezi(clust):\n",
      "    if clust.left == None and clust.right == None :\n",
      "        return [clust.id]\n",
      "    return yezi(clust.left) + yezi(clust.right)\n",
      "\n",
      "\n",
      "\n",
      "def bcluster_cython(np.ndarray[long,ndim=2] data) :\n",
      "   \n",
      "    cdef int dim=len(data[0])\n",
      "    cdef int alpha=3\n",
      "    cdef int currentclusted = -1 \n",
      "    cdef double P_H1, r, marginal_prob, pi, max_prob, newprob, newd\n",
      "    cdef int bic1, bic2, biclusters_len\n",
      "    cdef tuple flag = None\n",
      "    cdef np.ndarray temppoints, newpoints\n",
      "    \n",
      "    biclusters = [ bicluster(point = data[i], id = i ,probability=0.001,d=alpha) for i in range(len(data))] #initialize: each point is a cluster\n",
      "    \n",
      "    while(len(biclusters) > 1) : \n",
      "        max_prob = 0; \n",
      "        biclusters_len = len(biclusters)\n",
      "        for i in range(biclusters_len-1) :\n",
      "            for j in range(i + 1, biclusters_len) :\n",
      "                \n",
      "                #calculate P_H1: MC method\n",
      "                temppoints= np.vstack((biclusters[i].point , biclusters[j].point))\n",
      "                \n",
      "                #P_H1=marginal_likelihood_NIW(temp_cluster_points)\n",
      "                P_H1=marginal_likelihood_DW_cython(temppoints)\n",
      "                pi=float(scipy.misc.factorial(len(temppoints)-1))*alpha/(float(scipy.misc.factorial(len(temppoints)-1))*alpha+biclusters[i].d*biclusters[j].d)\n",
      "                marginal_prob=pi*P_H1+(1-pi)*biclusters[i].probability*biclusters[j].probability\n",
      "                r = pi*P_H1/marginal_prob\n",
      "                if r > max_prob :\n",
      "                    max_prob = r\n",
      "                    flag = (i,j)\n",
      "        \n",
      "        if max_prob<0.5: \n",
      "            break\n",
      "            \n",
      "        bic1,bic2 = flag \n",
      "        \n",
      "        newpoints = np.vstack((biclusters[bic1].point , biclusters[bic2].point)) #combine the points of two clusters into the new cluster\n",
      "        \n",
      "        #P_H1=marginal_likelihood_NIW(newpoint)\n",
      "        P_H1=marginal_likelihood_DW_cython(newpoints)\n",
      "        \n",
      "        newprob=pi*P_H1+(1-pi)*biclusters[bic1].probability*biclusters[bic2].probability\n",
      "        newd=float(scipy.misc.factorial(len(newpoints)-1))*alpha+biclusters[bic1].d*biclusters[bic2].d\n",
      "        newbic = bicluster(point=newpoints, left=biclusters[bic1], right=biclusters[bic2], probability=newprob, d=newd,  id = currentclusted) \n",
      "        currentclusted -= 1\n",
      "        \n",
      "        del biclusters[bic2] \n",
      "        del biclusters[bic1]\n",
      "        biclusters.append(newbic)\n",
      "        clusters = [yezi(biclusters[i]) for i in range(len(biclusters))] \n",
      "        \n",
      "    return biclusters,clusters\n",
      "\n"
     ],
     "language": "python",
     "metadata": {},
     "outputs": [],
     "prompt_number": 2
    },
    {
     "cell_type": "code",
     "collapsed": false,
     "input": [
      "#marginal_likelihood_DW_cython(sample_DW)\n",
      "sample=np.array(\n",
      "       [[1, 0, 4, 5],\n",
      "       [3, 2, 2, 3],\n",
      "       [0, 3, 6, 1],\n",
      "       [0, 2, 3, 5],\n",
      "       [1, 0, 7, 2],\n",
      "       [2, 0, 6, 2],\n",
      "       [0, 0, 5, 5],\n",
      "       [2, 1, 4, 3],\n",
      "       [3, 4, 1, 2],\n",
      "       [1, 3, 3, 3]])\n",
      "%timeit -n 100 k,l=bcluster_cython(sample) "
     ],
     "language": "python",
     "metadata": {},
     "outputs": [
      {
       "output_type": "stream",
       "stream": "stdout",
       "text": [
        "100 loops, best of 3: 23.7 ms per loop\n"
       ]
      }
     ],
     "prompt_number": 3
    },
    {
     "cell_type": "code",
     "collapsed": false,
     "input": [
      "l\n"
     ],
     "language": "python",
     "metadata": {},
     "outputs": [
      {
       "metadata": {},
       "output_type": "pyout",
       "prompt_number": 4,
       "text": [
        "[[1], [7], [8], [9], [3, 5, 4, 6, 0, 2]]"
       ]
      }
     ],
     "prompt_number": 4
    },
    {
     "cell_type": "code",
     "collapsed": false,
     "input": [
      "\n",
      "\n",
      "cdef np.ndarray sample_DW=np.array(\n",
      "       [[1, 0, 4, 5],\n",
      "       [3, 2, 2, 3],\n",
      "       [0, 3, 6, 1],\n",
      "       [0, 2, 3, 5],\n",
      "       [1, 0, 7, 2],\n",
      "       [2, 0, 6, 2],\n",
      "       [0, 0, 5, 5],\n",
      "       [2, 1, 4, 3],\n",
      "       [3, 4, 1, 2],\n",
      "       [1, 3, 3, 3]])"
     ],
     "language": "python",
     "metadata": {},
     "outputs": [],
     "prompt_number": 96
    },
    {
     "cell_type": "code",
     "collapsed": false,
     "input": [],
     "language": "python",
     "metadata": {},
     "outputs": [],
     "prompt_number": 6
    },
    {
     "cell_type": "code",
     "collapsed": false,
     "input": [],
     "language": "python",
     "metadata": {},
     "outputs": [],
     "prompt_number": 17
    },
    {
     "cell_type": "code",
     "collapsed": false,
     "input": [],
     "language": "python",
     "metadata": {},
     "outputs": [],
     "prompt_number": 1
    },
    {
     "cell_type": "code",
     "collapsed": false,
     "input": [
      "\n"
     ],
     "language": "python",
     "metadata": {},
     "outputs": [],
     "prompt_number": 2
    },
    {
     "cell_type": "code",
     "collapsed": false,
     "input": [],
     "language": "python",
     "metadata": {},
     "outputs": [],
     "prompt_number": 11
    },
    {
     "cell_type": "code",
     "collapsed": false,
     "input": [],
     "language": "python",
     "metadata": {},
     "outputs": [],
     "prompt_number": 12
    },
    {
     "cell_type": "code",
     "collapsed": false,
     "input": [],
     "language": "python",
     "metadata": {},
     "outputs": [],
     "prompt_number": 7
    },
    {
     "cell_type": "code",
     "collapsed": false,
     "input": [
      "\n"
     ],
     "language": "python",
     "metadata": {},
     "outputs": [],
     "prompt_number": 7
    },
    {
     "cell_type": "code",
     "collapsed": false,
     "input": [],
     "language": "python",
     "metadata": {},
     "outputs": [],
     "prompt_number": 7
    },
    {
     "cell_type": "code",
     "collapsed": false,
     "input": [],
     "language": "python",
     "metadata": {},
     "outputs": [],
     "prompt_number": 8
    },
    {
     "cell_type": "code",
     "collapsed": false,
     "input": [],
     "language": "python",
     "metadata": {},
     "outputs": [],
     "prompt_number": 8
    },
    {
     "cell_type": "code",
     "collapsed": false,
     "input": [
      "\n"
     ],
     "language": "python",
     "metadata": {},
     "outputs": [],
     "prompt_number": 8
    },
    {
     "cell_type": "code",
     "collapsed": false,
     "input": [],
     "language": "python",
     "metadata": {},
     "outputs": [],
     "prompt_number": 8
    },
    {
     "cell_type": "code",
     "collapsed": false,
     "input": [],
     "language": "python",
     "metadata": {},
     "outputs": [],
     "prompt_number": 8
    },
    {
     "cell_type": "code",
     "collapsed": false,
     "input": [],
     "language": "python",
     "metadata": {},
     "outputs": [],
     "prompt_number": 8
    },
    {
     "cell_type": "code",
     "collapsed": false,
     "input": [],
     "language": "python",
     "metadata": {},
     "outputs": [],
     "prompt_number": 8
    },
    {
     "cell_type": "code",
     "collapsed": false,
     "input": [],
     "language": "python",
     "metadata": {},
     "outputs": [],
     "prompt_number": 8
    },
    {
     "cell_type": "code",
     "collapsed": false,
     "input": [
      "\n"
     ],
     "language": "python",
     "metadata": {},
     "outputs": [],
     "prompt_number": 8
    },
    {
     "cell_type": "code",
     "collapsed": false,
     "input": [],
     "language": "python",
     "metadata": {},
     "outputs": [],
     "prompt_number": 8
    },
    {
     "cell_type": "code",
     "collapsed": false,
     "input": [],
     "language": "python",
     "metadata": {},
     "outputs": []
    }
   ],
   "metadata": {}
  }
 ]
}