{
 "metadata": {
  "name": "",
  "signature": "sha256:ba8079151043161ec7f1299e70b55d3bbc112f45a9b2aa97d21809ff629fc6b6"
 },
 "nbformat": 3,
 "nbformat_minor": 0,
 "worksheets": [
  {
   "cells": [
    {
     "cell_type": "code",
     "collapsed": false,
     "input": [
      "import numpy as np\n",
      "from numpy.random import choice\n",
      "class bicluster:\n",
      "    def __init__(self, vec, left=None,right=None,distance=0.0,id=None):\n",
      "        self.left = left\n",
      "        self.right = right  \n",
      "        self.vec = vec     \n",
      "        self.id = id     \n",
      "        self.distance = distance\n",
      "    \n",
      "def yezi(clust):\n",
      "    if clust.left == None and clust.right == None :\n",
      "        return [clust.id]\n",
      "    return yezi(clust.left) + yezi(clust.right)\n",
      "\n",
      "from math import sqrt\n",
      "\n",
      "def Euclidean_distance(vector1,vector2):\n",
      "    length = len(vector1)\n",
      "    TSum = sum([pow((vector1[i] - vector2[i]),2) for i in range(len(vector1))])\n",
      "    SSum = sqrt(TSum)\n",
      "    \n",
      "    return SSum"
     ],
     "language": "python",
     "metadata": {},
     "outputs": [],
     "prompt_number": 1
    },
    {
     "cell_type": "code",
     "collapsed": false,
     "input": [
      "#comparison algorithm\n",
      "import numpy as np\n",
      "from math import sqrt  \n",
      "\n",
      "def hcluster(blogwords,n) :\n",
      "    \n",
      "    class bicluster:\n",
      "        def __init__(self, vec, left=None,right=None,distance=0.0,id=None):\n",
      "            self.left = left\n",
      "            self.right = right  \n",
      "            self.vec = vec     \n",
      "            self.id = id     \n",
      "            self.distance = distance\n",
      "            \n",
      "    def yezi(clust):\n",
      "        if clust.left == None and clust.right == None :\n",
      "          return [clust.id]\n",
      "        return yezi(clust.left) + yezi(clust.right)  \n",
      "    \n",
      "    def Euclidean_distance(vector1,vector2):\n",
      "        length = len(vector1)\n",
      "        TSum = sum([pow((vector1[i] - vector2[i]),2) for i in range(len(vector1))])\n",
      "        SSum = sqrt(TSum)\n",
      "    \n",
      "        return SSum\n",
      "    \n",
      "    biclusters = [ bicluster(vec = blogwords[i], id = i ) for i in range(len(blogwords)) ]\n",
      "    distances = {}\n",
      "    flag = None;\n",
      "    currentclusted = -1\n",
      "    while(len(biclusters) > n) : \n",
      "        min_val = 999999999999; \n",
      "        biclusters_len = len(biclusters)\n",
      "        for i in range(biclusters_len-1) :\n",
      "            for j in range(i + 1, biclusters_len) :\n",
      "                if distances.get((biclusters[i].id,biclusters[j].id)) == None:\n",
      "                    distances[(biclusters[i].id,biclusters[j].id)] = Euclidean_distance(biclusters[i].vec,biclusters[j].vec)\n",
      "                d = distances[(biclusters[i].id,biclusters[j].id)] \n",
      "                if d < min_val :\n",
      "                    min_val = d\n",
      "                    flag = (i,j)\n",
      "        bic1,bic2 = flag \n",
      "        newvec = [(biclusters[bic1].vec[i] + biclusters[bic2].vec[i])/2 for i in range(len(biclusters[bic1].vec))] \n",
      "        newbic = bicluster(newvec, left=biclusters[bic1], right=biclusters[bic2], distance=min_val, id = currentclusted) \n",
      "        currentclusted -= 1\n",
      "        del biclusters[bic2] \n",
      "        del biclusters[bic1]\n",
      "        biclusters.append(newbic)\n",
      "        clusters = [yezi(biclusters[i]) for i in range(len(biclusters))] \n",
      "    return biclusters,clusters"
     ],
     "language": "python",
     "metadata": {},
     "outputs": [],
     "prompt_number": 3
    },
    {
     "cell_type": "code",
     "collapsed": false,
     "input": [
      "\n",
      "c=[[1,2,3,4],[3,2,5,4],[4,2,6,4],[3,4,2,5],[5,2,6,4],[6,2,4,3],[4,2,6,3]]\n",
      "type(c)"
     ],
     "language": "python",
     "metadata": {},
     "outputs": [
      {
       "metadata": {},
       "output_type": "pyout",
       "prompt_number": 4,
       "text": [
        "list"
       ]
      }
     ],
     "prompt_number": 4
    },
    {
     "cell_type": "code",
     "collapsed": false,
     "input": [
      "sample=[[3, 3, 3, 3, 3, 3],[3, 3, 3, 3, 3, 3],[3, 3, 3, 3, 3, 3],[1,2,3,4,5,3],[1,2,3,4,5,3],[1,2,3,4,5,3],\n",
      "        [9, 9, 0, 0, 0, 0],[9, 9, 0, 0, 0, 0],[9, 9, 0, 0, 0, 0]]\n",
      "k,l=hcluster(sample,3)"
     ],
     "language": "python",
     "metadata": {},
     "outputs": [],
     "prompt_number": 5
    },
    {
     "cell_type": "code",
     "collapsed": false,
     "input": [
      "l"
     ],
     "language": "python",
     "metadata": {},
     "outputs": [
      {
       "metadata": {},
       "output_type": "pyout",
       "prompt_number": 6,
       "text": [
        "[[2, 0, 1], [5, 3, 4], [8, 6, 7]]"
       ]
      }
     ],
     "prompt_number": 6
    },
    {
     "cell_type": "code",
     "collapsed": false,
     "input": [
      "type(sample)"
     ],
     "language": "python",
     "metadata": {},
     "outputs": [
      {
       "metadata": {},
       "output_type": "pyout",
       "prompt_number": 14,
       "text": [
        "list"
       ]
      }
     ],
     "prompt_number": 14
    },
    {
     "cell_type": "code",
     "collapsed": false,
     "input": [
      "import scipy.cluster as cluster\n",
      "import numpy as np\n",
      "from scipy.stats import multivariate_normal\n",
      "mean2=(0,0)\n",
      "cov2=0.5*np.eye(2)\n",
      "np.random.seed(4)\n",
      "data2=np.random.multivariate_normal(mean2,cov2,3)\n",
      "mean3=(2,2)\n",
      "cov3=0.5*np.eye(2)\n",
      "np.random.seed(5)\n",
      "data3=np.random.multivariate_normal(mean3,cov3,4)\n",
      "mean4=(8,8)\n",
      "cov4=0.5*np.eye(2)\n",
      "np.random.seed(6)\n",
      "data4=np.random.multivariate_normal(mean4,cov4,3)\n",
      "sample_NIW=np.concatenate((data3, data4,data2), axis=0)\n",
      "#s,l=cluster.vq.kmeans2(sample_NIW,k=2)\n",
      "\n"
     ],
     "language": "python",
     "metadata": {},
     "outputs": [],
     "prompt_number": 35
    },
    {
     "cell_type": "code",
     "collapsed": false,
     "input": [
      "type(sample_NIW)"
     ],
     "language": "python",
     "metadata": {},
     "outputs": [
      {
       "metadata": {},
       "output_type": "pyout",
       "prompt_number": 16,
       "text": [
        "numpy.ndarray"
       ]
      }
     ],
     "prompt_number": 16
    },
    {
     "cell_type": "code",
     "collapsed": false,
     "input": [
      "#kmeans\n",
      "import random\n",
      "import numpy as np\n",
      "\n",
      "def kmeanscluster(X, K):\n",
      "    \n",
      "    def cluster_points(X, mu):\n",
      "        clusters  = {}\n",
      "        for x in X:\n",
      "            bestmukey = min([(i[0], np.linalg.norm(x-mu[i[0]]))  for i in enumerate(mu)], key=lambda t:t[1])[0]\n",
      "            try:\n",
      "                clusters[bestmukey].append(x)\n",
      "            except KeyError:\n",
      "                clusters[bestmukey] = [x]\n",
      "        return clusters\n",
      "\n",
      "    def reevaluate_centers(mu, clusters):\n",
      "        newmu = []\n",
      "        keys = sorted(clusters.keys())\n",
      "        for k in keys:\n",
      "            newmu.append(np.mean(clusters[k], axis = 0))\n",
      "        return newmu\n",
      " \n",
      "    def has_converged(mu, oldmu):\n",
      "        return set([tuple(a) for a in mu]) == set([tuple(a) for a in oldmu])\n",
      "\n",
      "    # Initialize to K random centers\n",
      "    oldmu = random.sample(X, K)\n",
      "    mu = random.sample(X, K)\n",
      "    while not has_converged(mu, oldmu):\n",
      "        oldmu = mu\n",
      "        # Assign all points in X to clusters\n",
      "        kclusters = cluster_points(X, mu)\n",
      "        # Reevaluate centers\n",
      "        mu = reevaluate_centers(oldmu, kclusters)\n",
      "    return mu, kclusters\n"
     ],
     "language": "python",
     "metadata": {},
     "outputs": [],
     "prompt_number": 11
    },
    {
     "cell_type": "code",
     "collapsed": false,
     "input": [
      "sample=[[3, 3, 3, 3, 3, 3],[3, 3, 3, 3, 3, 3],[3, 3, 3, 3, 3, 3],[1,2,3,4,5,3],[1,2,3,4,5,3],[1,2,3,4,5,3],\n",
      "        [9, 9, 0, 0, 0, 0],[9, 9, 0, 0, 0, 0],[9, 9, 0, 0, 0, 0]]\n",
      "d1=[[3, 3, 3, 3, 3, 3],[3, 3, 3, 3, 3, 3],[3, 3, 3, 3, 3, 3]]\n",
      "d2=[[9, 9, 0, 0, 0, 0],[9, 9, 0, 0, 0, 0],[9, 9, 0, 0, 0, 0]]\n",
      "sample_DW=np.concatenate((d1, d2), axis=0)\n",
      "\n",
      "k,l=kmeanscluster(sample_NIW,3)\n",
      "\n",
      "\n",
      "\n"
     ],
     "language": "python",
     "metadata": {},
     "outputs": [],
     "prompt_number": 43
    },
    {
     "cell_type": "code",
     "collapsed": false,
     "input": [
      "l\n",
      "\n",
      "\n"
     ],
     "language": "python",
     "metadata": {},
     "outputs": [
      {
       "metadata": {},
       "output_type": "pyout",
       "prompt_number": 44,
       "text": [
        "{0: [array([ 7.77953565,  8.51548362]),\n",
        "  array([ 8.15402256,  7.36424609]),\n",
        "  array([ 6.24158054,  8.64576634])],\n",
        " 1: [array([ 0.03575253,  0.35351898]),\n",
        "  array([-0.70421396,  0.49044821]),\n",
        "  array([-0.29578384, -1.12046531])],\n",
        " 2: [array([ 2.31199495,  1.76603947]),\n",
        "  array([ 3.71881479,  1.82174395]),\n",
        "  array([ 2.07750586,  3.11898313]),\n",
        "  array([ 1.3570756 ,  1.58164971])]}"
       ]
      }
     ],
     "prompt_number": 44
    },
    {
     "cell_type": "code",
     "collapsed": false,
     "input": [
      "type(sample_DW)\n"
     ],
     "language": "python",
     "metadata": {},
     "outputs": [
      {
       "metadata": {},
       "output_type": "pyout",
       "prompt_number": 33,
       "text": [
        "numpy.ndarray"
       ]
      }
     ],
     "prompt_number": 33
    },
    {
     "cell_type": "code",
     "collapsed": false,
     "input": [
      "\n",
      "    \n",
      "def cluster_points(X, mu):\n",
      "    clusters  = {}\n",
      "    for x in X:\n",
      "        bestmukey = min([(i[0], np.linalg.norm(x-mu[i[0]]))  for i in enumerate(mu)], key=lambda t:t[1])[0]\n",
      "        try:\n",
      "            clusters[bestmukey].append(x)\n",
      "        except KeyError:\n",
      "            clusters[bestmukey] = [x]\n",
      "    return clusters\n",
      "\n",
      "\n",
      "def reevaluate_centers(mu, clusters):\n",
      "    newmu = []\n",
      "    keys = sorted(clusters.keys())\n",
      "    for k in keys:\n",
      "        newmu.append(np.mean(clusters[k], axis = 0))\n",
      "    return newmu\n",
      " \n",
      "def has_converged(mu, oldmu):\n",
      "    return set([tuple(a) for a in mu]) == set([tuple(a) for a in oldmu])\n",
      "\n",
      "def kmeanscluster(X, K):\n",
      "    # Initialize to K random centers\n",
      "    oldmu = random.sample(X, K)\n",
      "    mu = random.sample(X, K)\n",
      "    while not has_converged(mu, oldmu):\n",
      "        oldmu = mu\n",
      "        # Assign all points in X to clusters\n",
      "        clusters = cluster_points(X, mu)\n",
      "        # Reevaluate centers\n",
      "        mu = reevaluate_centers(oldmu, clusters)\n",
      "    return mu, clusters\n",
      "\n"
     ],
     "language": "python",
     "metadata": {},
     "outputs": [],
     "prompt_number": 3
    },
    {
     "cell_type": "code",
     "collapsed": false,
     "input": [
      "k,l=kmeanscluster(sample,3)"
     ],
     "language": "python",
     "metadata": {},
     "outputs": [
      {
       "ename": "TypeError",
       "evalue": "unsupported operand type(s) for -: 'list' and 'list'",
       "output_type": "pyerr",
       "traceback": [
        "\u001b[1;31m---------------------------------------------------------------------------\u001b[0m\n\u001b[1;31mTypeError\u001b[0m                                 Traceback (most recent call last)",
        "\u001b[1;32m<ipython-input-4-3bfae590475c>\u001b[0m in \u001b[0;36m<module>\u001b[1;34m()\u001b[0m\n\u001b[1;32m----> 1\u001b[1;33m \u001b[0mk\u001b[0m\u001b[1;33m,\u001b[0m\u001b[0ml\u001b[0m\u001b[1;33m=\u001b[0m\u001b[0mkmeanscluster\u001b[0m\u001b[1;33m(\u001b[0m\u001b[0msample\u001b[0m\u001b[1;33m,\u001b[0m\u001b[1;36m3\u001b[0m\u001b[1;33m)\u001b[0m\u001b[1;33m\u001b[0m\u001b[0m\n\u001b[0m",
        "\u001b[1;32m<ipython-input-3-75ff490a6787>\u001b[0m in \u001b[0;36mkmeanscluster\u001b[1;34m(X, K)\u001b[0m\n\u001b[0;32m     29\u001b[0m         \u001b[0moldmu\u001b[0m \u001b[1;33m=\u001b[0m \u001b[0mmu\u001b[0m\u001b[1;33m\u001b[0m\u001b[0m\n\u001b[0;32m     30\u001b[0m         \u001b[1;31m# Assign all points in X to clusters\u001b[0m\u001b[1;33m\u001b[0m\u001b[1;33m\u001b[0m\u001b[0m\n\u001b[1;32m---> 31\u001b[1;33m         \u001b[0mclusters\u001b[0m \u001b[1;33m=\u001b[0m \u001b[0mcluster_points\u001b[0m\u001b[1;33m(\u001b[0m\u001b[0mX\u001b[0m\u001b[1;33m,\u001b[0m \u001b[0mmu\u001b[0m\u001b[1;33m)\u001b[0m\u001b[1;33m\u001b[0m\u001b[0m\n\u001b[0m\u001b[0;32m     32\u001b[0m         \u001b[1;31m# Reevaluate centers\u001b[0m\u001b[1;33m\u001b[0m\u001b[1;33m\u001b[0m\u001b[0m\n\u001b[0;32m     33\u001b[0m         \u001b[0mmu\u001b[0m \u001b[1;33m=\u001b[0m \u001b[0mreevaluate_centers\u001b[0m\u001b[1;33m(\u001b[0m\u001b[0moldmu\u001b[0m\u001b[1;33m,\u001b[0m \u001b[0mclusters\u001b[0m\u001b[1;33m)\u001b[0m\u001b[1;33m\u001b[0m\u001b[0m\n",
        "\u001b[1;32m<ipython-input-3-75ff490a6787>\u001b[0m in \u001b[0;36mcluster_points\u001b[1;34m(X, mu)\u001b[0m\n\u001b[0;32m      4\u001b[0m     \u001b[0mclusters\u001b[0m  \u001b[1;33m=\u001b[0m \u001b[1;33m{\u001b[0m\u001b[1;33m}\u001b[0m\u001b[1;33m\u001b[0m\u001b[0m\n\u001b[0;32m      5\u001b[0m     \u001b[1;32mfor\u001b[0m \u001b[0mx\u001b[0m \u001b[1;32min\u001b[0m \u001b[0mX\u001b[0m\u001b[1;33m:\u001b[0m\u001b[1;33m\u001b[0m\u001b[0m\n\u001b[1;32m----> 6\u001b[1;33m         \u001b[0mbestmukey\u001b[0m \u001b[1;33m=\u001b[0m \u001b[0mmin\u001b[0m\u001b[1;33m(\u001b[0m\u001b[1;33m[\u001b[0m\u001b[1;33m(\u001b[0m\u001b[0mi\u001b[0m\u001b[1;33m[\u001b[0m\u001b[1;36m0\u001b[0m\u001b[1;33m]\u001b[0m\u001b[1;33m,\u001b[0m \u001b[0mnp\u001b[0m\u001b[1;33m.\u001b[0m\u001b[0mlinalg\u001b[0m\u001b[1;33m.\u001b[0m\u001b[0mnorm\u001b[0m\u001b[1;33m(\u001b[0m\u001b[0mx\u001b[0m\u001b[1;33m-\u001b[0m\u001b[0mmu\u001b[0m\u001b[1;33m[\u001b[0m\u001b[0mi\u001b[0m\u001b[1;33m[\u001b[0m\u001b[1;36m0\u001b[0m\u001b[1;33m]\u001b[0m\u001b[1;33m]\u001b[0m\u001b[1;33m)\u001b[0m\u001b[1;33m)\u001b[0m  \u001b[1;32mfor\u001b[0m \u001b[0mi\u001b[0m \u001b[1;32min\u001b[0m \u001b[0menumerate\u001b[0m\u001b[1;33m(\u001b[0m\u001b[0mmu\u001b[0m\u001b[1;33m)\u001b[0m\u001b[1;33m]\u001b[0m\u001b[1;33m,\u001b[0m \u001b[0mkey\u001b[0m\u001b[1;33m=\u001b[0m\u001b[1;32mlambda\u001b[0m \u001b[0mt\u001b[0m\u001b[1;33m:\u001b[0m\u001b[0mt\u001b[0m\u001b[1;33m[\u001b[0m\u001b[1;36m1\u001b[0m\u001b[1;33m]\u001b[0m\u001b[1;33m)\u001b[0m\u001b[1;33m[\u001b[0m\u001b[1;36m0\u001b[0m\u001b[1;33m]\u001b[0m\u001b[1;33m\u001b[0m\u001b[0m\n\u001b[0m\u001b[0;32m      7\u001b[0m         \u001b[1;32mtry\u001b[0m\u001b[1;33m:\u001b[0m\u001b[1;33m\u001b[0m\u001b[0m\n\u001b[0;32m      8\u001b[0m             \u001b[0mclusters\u001b[0m\u001b[1;33m[\u001b[0m\u001b[0mbestmukey\u001b[0m\u001b[1;33m]\u001b[0m\u001b[1;33m.\u001b[0m\u001b[0mappend\u001b[0m\u001b[1;33m(\u001b[0m\u001b[0mx\u001b[0m\u001b[1;33m)\u001b[0m\u001b[1;33m\u001b[0m\u001b[0m\n",
        "\u001b[1;31mTypeError\u001b[0m: unsupported operand type(s) for -: 'list' and 'list'"
       ]
      }
     ],
     "prompt_number": 4
    },
    {
     "cell_type": "code",
     "collapsed": false,
     "input": [
      "l"
     ],
     "language": "python",
     "metadata": {},
     "outputs": [
      {
       "metadata": {},
       "output_type": "pyout",
       "prompt_number": 22,
       "text": [
        "{0: [array([ 7.77953565,  8.51548362]),\n",
        "  array([ 8.15402256,  7.36424609]),\n",
        "  array([ 6.24158054,  8.64576634])],\n",
        " 1: [array([ 2.31199495,  1.76603947]),\n",
        "  array([ 3.71881479,  1.82174395]),\n",
        "  array([ 2.07750586,  3.11898313]),\n",
        "  array([ 1.3570756 ,  1.58164971])],\n",
        " 2: [array([ 0.03575253,  0.35351898]),\n",
        "  array([-0.70421396,  0.49044821]),\n",
        "  array([-0.29578384, -1.12046531])]}"
       ]
      }
     ],
     "prompt_number": 22
    },
    {
     "cell_type": "code",
     "collapsed": false,
     "input": [
      "def cluster_points(X, mu):\n",
      "    clusters  = {}\n",
      "    for x in X:\n",
      "        bestmukey = min([(i[0], np.linalg.norm(x-mu[i[0]])) \\\n",
      "                    for i in enumerate(mu)], key=lambda t:t[1])[0]\n",
      "        try:\n",
      "            clusters[bestmukey].append(x)\n",
      "        except KeyError:\n",
      "            clusters[bestmukey] = [x]\n",
      "    return clusters\n",
      " \n",
      "def reevaluate_centers(mu, clusters):\n",
      "    newmu = []\n",
      "    keys = sorted(clusters.keys())\n",
      "    for k in keys:\n",
      "        newmu.append(np.mean(clusters[k], axis = 0))\n",
      "    return newmu\n",
      " \n",
      "def has_converged(mu, oldmu):\n",
      "    return (set([tuple(a) for a in mu]) == set([tuple(a) for a in oldmu])\n",
      " \n",
      "def find_centers(X, K):\n",
      "    # Initialize to K random centers\n",
      "    oldmu = random.sample(X, K)\n",
      "    mu = random.sample(X, K)\n",
      "    while not has_converged(mu, oldmu):\n",
      "        oldmu = mu\n",
      "        # Assign all points in X to clusters\n",
      "        clusters = cluster_points(X, mu)\n",
      "        # Reevaluate centers\n",
      "        mu = reevaluate_centers(oldmu, clusters)\n",
      "    return(mu, clusters)"
     ],
     "language": "python",
     "metadata": {},
     "outputs": [
      {
       "ename": "SyntaxError",
       "evalue": "invalid syntax (<ipython-input-3-32d1b9a47dfd>, line 21)",
       "output_type": "pyerr",
       "traceback": [
        "\u001b[1;36m  File \u001b[1;32m\"<ipython-input-3-32d1b9a47dfd>\"\u001b[1;36m, line \u001b[1;32m21\u001b[0m\n\u001b[1;33m    def find_centers(X, K):\u001b[0m\n\u001b[1;37m      ^\u001b[0m\n\u001b[1;31mSyntaxError\u001b[0m\u001b[1;31m:\u001b[0m invalid syntax\n"
       ]
      }
     ],
     "prompt_number": 3
    },
    {
     "cell_type": "code",
     "collapsed": false,
     "input": [],
     "language": "python",
     "metadata": {},
     "outputs": []
    }
   ],
   "metadata": {}
  }
 ]
}